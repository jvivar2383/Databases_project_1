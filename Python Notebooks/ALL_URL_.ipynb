{
 "cells": [
  {
   "cell_type": "code",
   "execution_count": 1,
   "metadata": {
    "id": "DmUAFDIeb1ko"
   },
   "outputs": [
    {
     "name": "stdout",
     "output_type": "stream",
     "text": [
      "Requirement already satisfied: selenium in c:\\users\\user\\anaconda3\\lib\\site-packages (4.1.3)\n",
      "Requirement already satisfied: trio~=0.17 in c:\\users\\user\\anaconda3\\lib\\site-packages (from selenium) (0.20.0)\n",
      "Requirement already satisfied: trio-websocket~=0.9 in c:\\users\\user\\anaconda3\\lib\\site-packages (from selenium) (0.9.2)\n",
      "Requirement already satisfied: urllib3[secure,socks]~=1.26 in c:\\users\\user\\anaconda3\\lib\\site-packages (from selenium) (1.26.7)\n",
      "Requirement already satisfied: sortedcontainers in c:\\users\\user\\anaconda3\\lib\\site-packages (from trio~=0.17->selenium) (2.4.0)\n",
      "Requirement already satisfied: outcome in c:\\users\\user\\anaconda3\\lib\\site-packages (from trio~=0.17->selenium) (1.1.0)\n",
      "Requirement already satisfied: attrs>=19.2.0 in c:\\users\\user\\anaconda3\\lib\\site-packages (from trio~=0.17->selenium) (21.2.0)\n",
      "Requirement already satisfied: sniffio in c:\\users\\user\\anaconda3\\lib\\site-packages (from trio~=0.17->selenium) (1.2.0)\n",
      "Requirement already satisfied: cffi>=1.14 in c:\\users\\user\\anaconda3\\lib\\site-packages (from trio~=0.17->selenium) (1.14.6)\n",
      "Requirement already satisfied: idna in c:\\users\\user\\anaconda3\\lib\\site-packages (from trio~=0.17->selenium) (3.2)\n",
      "Requirement already satisfied: async-generator>=1.9 in c:\\users\\user\\anaconda3\\lib\\site-packages (from trio~=0.17->selenium) (1.10)\n",
      "Requirement already satisfied: pycparser in c:\\users\\user\\anaconda3\\lib\\site-packages (from cffi>=1.14->trio~=0.17->selenium) (2.20)\n",
      "Requirement already satisfied: wsproto>=0.14 in c:\\users\\user\\anaconda3\\lib\\site-packages (from trio-websocket~=0.9->selenium) (1.1.0)\n",
      "Requirement already satisfied: pyOpenSSL>=0.14 in c:\\users\\user\\anaconda3\\lib\\site-packages (from urllib3[secure,socks]~=1.26->selenium) (21.0.0)\n",
      "Requirement already satisfied: cryptography>=1.3.4 in c:\\users\\user\\anaconda3\\lib\\site-packages (from urllib3[secure,socks]~=1.26->selenium) (3.4.8)\n",
      "Requirement already satisfied: certifi in c:\\users\\user\\anaconda3\\lib\\site-packages (from urllib3[secure,socks]~=1.26->selenium) (2021.10.8)\n",
      "Requirement already satisfied: PySocks!=1.5.7,<2.0,>=1.5.6 in c:\\users\\user\\anaconda3\\lib\\site-packages (from urllib3[secure,socks]~=1.26->selenium) (1.7.1)\n",
      "Requirement already satisfied: six>=1.5.2 in c:\\users\\user\\anaconda3\\lib\\site-packages (from pyOpenSSL>=0.14->urllib3[secure,socks]~=1.26->selenium) (1.16.0)\n",
      "Requirement already satisfied: h11<1,>=0.9.0 in c:\\users\\user\\anaconda3\\lib\\site-packages (from wsproto>=0.14->trio-websocket~=0.9->selenium) (0.13.0)\n"
     ]
    }
   ],
   "source": [
    "!pip install selenium"
   ]
  },
  {
   "cell_type": "code",
   "execution_count": 1,
   "metadata": {},
   "outputs": [
    {
     "name": "stdout",
     "output_type": "stream",
     "text": [
      "Requirement already satisfied: pyyaml in /Users/jenifervivar/opt/anaconda3/lib/python3.9/site-packages (6.0)\n",
      "Collecting ua-parser\n",
      "  Downloading ua_parser-0.10.0-py2.py3-none-any.whl (35 kB)\n",
      "Collecting user-agents\n",
      "  Downloading user_agents-2.2.0-py3-none-any.whl (9.6 kB)\n",
      "Installing collected packages: ua-parser, user-agents\n",
      "Successfully installed ua-parser-0.10.0 user-agents-2.2.0\n"
     ]
    }
   ],
   "source": [
    "!pip install pyyaml ua-parser user-agents"
   ]
  },
  {
   "cell_type": "code",
   "execution_count": 3,
   "metadata": {},
   "outputs": [
    {
     "name": "stdout",
     "output_type": "stream",
     "text": [
      "Collecting my_fake_useragent\n",
      "  Using cached my_fake_useragent-0.2.0-py3-none-any.whl (66 kB)\n",
      "Installing collected packages: my-fake-useragent\n",
      "Successfully installed my-fake-useragent-0.2.0\n"
     ]
    }
   ],
   "source": [
    "!pip install my_fake_useragent"
   ]
  },
  {
   "cell_type": "code",
   "execution_count": null,
   "metadata": {},
   "outputs": [],
   "source": []
  },
  {
   "cell_type": "code",
   "execution_count": 2,
   "metadata": {
    "id": "TLkwzr7GcFWc"
   },
   "outputs": [
    {
     "name": "stdout",
     "output_type": "stream",
     "text": [
      "Requirement already satisfied: requests_html in c:\\users\\user\\anaconda3\\lib\\site-packages (0.10.0)\n",
      "Requirement already satisfied: pyquery in c:\\users\\user\\anaconda3\\lib\\site-packages (from requests_html) (1.4.3)\n",
      "Requirement already satisfied: parse in c:\\users\\user\\anaconda3\\lib\\site-packages (from requests_html) (1.19.0)\n",
      "Requirement already satisfied: w3lib in c:\\users\\user\\anaconda3\\lib\\site-packages (from requests_html) (1.22.0)\n",
      "Requirement already satisfied: bs4 in c:\\users\\user\\anaconda3\\lib\\site-packages (from requests_html) (0.0.1)\n",
      "Requirement already satisfied: pyppeteer>=0.0.14 in c:\\users\\user\\anaconda3\\lib\\site-packages (from requests_html) (1.0.2)\n",
      "Requirement already satisfied: requests in c:\\users\\user\\anaconda3\\lib\\site-packages (from requests_html) (2.27.1)\n",
      "Requirement already satisfied: fake-useragent in c:\\users\\user\\anaconda3\\lib\\site-packages (from requests_html) (0.1.11)\n",
      "Requirement already satisfied: pyee<9.0.0,>=8.1.0 in c:\\users\\user\\anaconda3\\lib\\site-packages (from pyppeteer>=0.0.14->requests_html) (8.2.2)\n",
      "Requirement already satisfied: websockets<11.0,>=10.0 in c:\\users\\user\\anaconda3\\lib\\site-packages (from pyppeteer>=0.0.14->requests_html) (10.2)\n",
      "Requirement already satisfied: appdirs<2.0.0,>=1.4.3 in c:\\users\\user\\anaconda3\\lib\\site-packages (from pyppeteer>=0.0.14->requests_html) (1.4.4)\n",
      "Requirement already satisfied: importlib-metadata>=1.4 in c:\\users\\user\\anaconda3\\lib\\site-packages (from pyppeteer>=0.0.14->requests_html) (4.8.1)\n",
      "Requirement already satisfied: tqdm<5.0.0,>=4.42.1 in c:\\users\\user\\anaconda3\\lib\\site-packages (from pyppeteer>=0.0.14->requests_html) (4.62.3)\n",
      "Requirement already satisfied: urllib3<2.0.0,>=1.25.8 in c:\\users\\user\\anaconda3\\lib\\site-packages (from pyppeteer>=0.0.14->requests_html) (1.26.7)\n",
      "Requirement already satisfied: certifi>=2021 in c:\\users\\user\\anaconda3\\lib\\site-packages (from pyppeteer>=0.0.14->requests_html) (2021.10.8)\n",
      "Requirement already satisfied: zipp>=0.5 in c:\\users\\user\\anaconda3\\lib\\site-packages (from importlib-metadata>=1.4->pyppeteer>=0.0.14->requests_html) (3.6.0)\n",
      "Requirement already satisfied: colorama in c:\\users\\user\\anaconda3\\lib\\site-packages (from tqdm<5.0.0,>=4.42.1->pyppeteer>=0.0.14->requests_html) (0.4.4)\n",
      "Requirement already satisfied: beautifulsoup4 in c:\\users\\user\\anaconda3\\lib\\site-packages (from bs4->requests_html) (4.10.0)\n",
      "Requirement already satisfied: soupsieve>1.2 in c:\\users\\user\\anaconda3\\lib\\site-packages (from beautifulsoup4->bs4->requests_html) (2.2.1)\n",
      "Requirement already satisfied: lxml>=2.1 in c:\\users\\user\\anaconda3\\lib\\site-packages (from pyquery->requests_html) (4.8.0)\n",
      "Requirement already satisfied: cssselect>0.7.9 in c:\\users\\user\\anaconda3\\lib\\site-packages (from pyquery->requests_html) (1.1.0)\n",
      "Requirement already satisfied: idna<4,>=2.5 in c:\\users\\user\\anaconda3\\lib\\site-packages (from requests->requests_html) (3.2)\n",
      "Requirement already satisfied: charset-normalizer~=2.0.0 in c:\\users\\user\\anaconda3\\lib\\site-packages (from requests->requests_html) (2.0.4)\n",
      "Requirement already satisfied: six>=1.4.1 in c:\\users\\user\\anaconda3\\lib\\site-packages (from w3lib->requests_html) (1.16.0)\n"
     ]
    }
   ],
   "source": [
    "!pip install requests_html"
   ]
  },
  {
   "cell_type": "code",
   "execution_count": 4,
   "metadata": {
    "id": "-0FL-AUQcWD9"
   },
   "outputs": [
    {
     "name": "stdout",
     "output_type": "stream",
     "text": [
      "Collecting mysql-connector-python\n",
      "  Downloading mysql_connector_python-8.0.29-cp39-cp39-win_amd64.whl (7.7 MB)\n",
      "Requirement already satisfied: protobuf>=3.0.0 in c:\\users\\user\\anaconda3\\lib\\site-packages (from mysql-connector-python) (3.19.4)\n",
      "Installing collected packages: mysql-connector-python\n",
      "Successfully installed mysql-connector-python-8.0.29\n"
     ]
    }
   ],
   "source": [
    "!pip install mysql-connector-python"
   ]
  },
  {
   "cell_type": "code",
   "execution_count": 4,
   "metadata": {
    "id": "ckkAaHWMWxZf"
   },
   "outputs": [],
   "source": [
    "import selenium.webdriver as webdriver\n",
    "from selenium.webdriver.common.by import By\n",
    "import requests\n",
    "from bs4 import BeautifulSoup\n",
    "import requests\n",
    "import urllib\n",
    "import pandas as pd\n",
    "from requests_html import HTML\n",
    "from requests_html import HTMLSession, AsyncHTMLSession\n",
    "import re\n",
    "import numpy as np\n",
    "import mysql.connector\n",
    "from mysql.connector import Error\n",
    "from my_fake_useragent import UserAgent"
   ]
  },
  {
   "cell_type": "code",
   "execution_count": null,
   "metadata": {},
   "outputs": [],
   "source": []
  },
  {
   "cell_type": "code",
   "execution_count": null,
   "metadata": {},
   "outputs": [],
   "source": []
  },
  {
   "cell_type": "code",
   "execution_count": 5,
   "metadata": {
    "id": "aFaAkx9nWaU9"
   },
   "outputs": [],
   "source": [
    "\n",
    "def get_source(url):\n",
    "\n",
    "    try:\n",
    "        session = HTMLSession()\n",
    "        response = session.get(url)\n",
    "        return response\n",
    "\n",
    "    except requests.exceptions.RequestException as e:\n",
    "        print(e)\n",
    "\n",
    "def get_results(query):\n",
    "    \n",
    "    query = urllib.parse.quote_plus(query)\n",
    "    response = get_source(\"https://search.yahoo.com/search?p=\" + query)\n",
    "    \n",
    "    return response\n",
    "def scrape_yahoo(query):\n",
    "\n",
    "    query = urllib.parse.quote_plus(query)\n",
    "    response = get_source(\"https://search.yahoo.com/search?p=\" + query)\n",
    "\n",
    "    links = list(response.html.absolute_links)\n",
    "    yahoo_domains = ('https://www.yahoo.', \n",
    "                      'https://yahoo.', \n",
    "                      'https://webcache.yahoo.', \n",
    "                      'http://webcache.yahoo.', \n",
    "                      'https://policies.yahoo.',\n",
    "                      'https://support.yahoo.',\n",
    "                      'https://maps.yahoo.')\n",
    "    for url in links[:]:\n",
    "        if url.startswith(yahoo_domains):\n",
    "            links.remove(url)\n",
    "\n",
    "    return links\n",
    "def scrape_bing(query):\n",
    "\n",
    "    query = urllib.parse.quote_plus(query)\n",
    "    response = get_source(\"https://www.google.com/search?q=\" + query)\n",
    "\n",
    "    links = list(response.html.absolute_links)\n",
    "    bing_domains = ('https://www.bing.', \n",
    "                      'https://bing.', \n",
    "                      'https://webcache.bingusercontent.', \n",
    "                      'http://webcache.bingusercontent.', \n",
    "                      'https://policies.bing.',\n",
    "                      'https://support.bing.',\n",
    "                      'https://www.bingadservices.'\n",
    "                      'https://maps.bing.')\n",
    "    for url in links[:]:\n",
    "        if url.startswith(bing_domains):\n",
    "            links.remove(url)\n",
    "\n",
    "    return links\n",
    "def scrape_google(query):\n",
    "\n",
    "    query = urllib.parse.quote_plus(query)\n",
    "    response = get_source(\"https://www.google.com/search?q=\" + query)\n",
    "\n",
    "    links = list(response.html.absolute_links)\n",
    "    google_domains = ('https://www.google.', \n",
    "                      'https://google.', \n",
    "                      'https://webcache.googleusercontent.', \n",
    "                      'http://webcache.googleusercontent.', \n",
    "                      'https://policies.google.',\n",
    "                      'https://support.google.',\n",
    "                      'https://www.googleadservices.'\n",
    "                      'https://maps.google.')\n",
    "    for url in links[:]:\n",
    "        if url.startswith(google_domains):\n",
    "            links.remove(url)\n",
    "\n",
    "    return links\n",
    "def scrape_duck(query):\n",
    "\n",
    "    query = urllib.parse.quote_plus(query)\n",
    "    response = get_source(\"https://duckduckgo.com/?q=\" + query)\n",
    "\n",
    "    links = list(response.html.absolute_links)\n",
    "    duck_domains = ('https://www.duckduckgo.', \n",
    "                      'https://duckduckgo.', \n",
    "                      'https://webcache.duckduckgousercontent.', \n",
    "                      'http://webcache.duckduckgousercontent.', \n",
    "                      'https://policies.duckduckgo.',\n",
    "                      'https://support.duckduckgo.',\n",
    "                      'https://www.duckduckgoadservices.'\n",
    "                      'https://maps.duckduckgo.')\n",
    "    for url in links[:]:\n",
    "        if url.startswith(duck_domains):\n",
    "            links.remove(url)\n",
    "\n",
    "    return links\n",
    "    "
   ]
  },
  {
   "cell_type": "code",
   "execution_count": null,
   "metadata": {},
   "outputs": [],
   "source": []
  },
  {
   "cell_type": "code",
   "execution_count": 80,
   "metadata": {
    "id": "cTG4SaqKa-Qo"
   },
   "outputs": [],
   "source": [
    "plants_search = ['house plants', 'green plants', 'plants','hard to kill plants', 'low light plants', \\\n",
    "              'how to take care of plants', 'cacti', 'easy plants', 'outdoor plants', 'winter plants',\\\n",
    "             'summer plants', 'all year round plants', 'flowering plants', 'wall plants', \\\n",
    "                 'green plants', 'easy house plants', 'easy to care plants']"
   ]
  },
  {
   "cell_type": "code",
   "execution_count": null,
   "metadata": {},
   "outputs": [],
   "source": []
  },
  {
   "cell_type": "code",
   "execution_count": null,
   "metadata": {},
   "outputs": [],
   "source": []
  },
  {
   "cell_type": "code",
   "execution_count": 56,
   "metadata": {
    "id": "dbSD416nZwWA"
   },
   "outputs": [],
   "source": [
    "#get results for all search engines\n",
    "results1 = []\n",
    "results2 = []\n",
    "results3 = []\n",
    "results4 = []\n",
    "for query in plants_search:\n",
    "    result = scrape_google(query)\n",
    "    results1.append(result)\n",
    "for query in plants_search:\n",
    "    result = scrape_yahoo(query)\n",
    "    results2.append(result)\n",
    "for query in plants_search:\n",
    "    result = scrape_bing(query)\n",
    "    results3.append(result)\n",
    "for query in plants_search:\n",
    "    result = scrape_duck(query)\n",
    "    results4.append(result)    \n",
    "\n"
   ]
  },
  {
   "cell_type": "code",
   "execution_count": null,
   "metadata": {},
   "outputs": [],
   "source": []
  },
  {
   "cell_type": "code",
   "execution_count": null,
   "metadata": {},
   "outputs": [],
   "source": []
  },
  {
   "cell_type": "code",
   "execution_count": 57,
   "metadata": {},
   "outputs": [],
   "source": [
    "#results1 = set(results1)\n",
    "results1 = list(set(results1[0]))\n",
    "results2 = list(set(results2[0]))\n",
    "results3 = list(set(results3[0]))\n",
    "result4 = list(set(results4[0]))"
   ]
  },
  {
   "cell_type": "code",
   "execution_count": null,
   "metadata": {},
   "outputs": [],
   "source": []
  },
  {
   "cell_type": "code",
   "execution_count": null,
   "metadata": {},
   "outputs": [],
   "source": []
  },
  {
   "cell_type": "code",
   "execution_count": 47,
   "metadata": {},
   "outputs": [
    {
     "data": {
      "text/plain": [
       "['https://www.countryliving.com/gardening/g26753835/indoor-trees/',\n",
       " 'https://www.countryliving.com/gardening/garden-ideas/g26829528/bedroom-plants/',\n",
       " 'https://www.target.com/p/large-verigated-plant-threshold-8482/-/A-83228277?ref=tgt_adv_XS000000&AFID=google_pla_df_free_local&CPNG=Home%2BDecor&adgroup=65-7',\n",
       " 'https://www.homedepot.com/b/Outdoors-Garden-Center-Indoor-Plants/Low-Maintenance/N-5yc1vZc8rnZ1z1c7ke',\n",
       " 'https://www.goodhousekeeping.com/home/gardening/a20705680/christmas-cactus-care/',\n",
       " 'https://www.amazon.com/Houseplants-Plants-Containers-Planters-Pets/dp/B09K9JQ8CD?source=ps-sl-shoppingads-lpcontext&psc=1&smid=ATVPDKIKX0DER',\n",
       " 'https://www.plants.com/c/house-plants',\n",
       " 'https://www.goodhousekeeping.com/home/gardening/advice/g1285/hard-to-kill-plants/',\n",
       " 'https://www.homedepot.com/b/Outdoors-Garden-Center-Indoor-Plants/Prepotted/N-5yc1vZc8rnZ1z17or4',\n",
       " 'https://www.forbes.com/sites/forbes-personal-shopper/2022/02/27/best-indoor-plants/',\n",
       " 'https://urbanstems.com/products/plants/the-fiddle/NF-K-00040.html',\n",
       " 'https://www.amazon.com/Houseplants-Plants-Containers-Planters-Pets/dp/B09K9GW3BH?source=ps-sl-shoppingads-lpcontext&psc=1&smid=ATVPDKIKX0DER',\n",
       " 'https://www.madewell.com/grounded-golden-pothos-plant-99106744013.html?source=googlePLA&noPopUp=true',\n",
       " 'https://www.goodhousekeeping.com/home/gardening/a20706498/how-to-grow-succulents/',\n",
       " 'https://www.amazon.com/Costa-Farms-Golden-Pothos-Devils/dp/B07TTJNM89?source=ps-sl-shoppingads-lpcontext&psc=1&smid=ATVPDKIKX0DER',\n",
       " 'https://www.homedepot.com/b/Outdoors-Garden-Center-Indoor-Plants/N-5yc1vZc8rn',\n",
       " 'https://www.homedepot.com/b/Outdoors-Garden-Center-Indoor-Plants/Exotic-Angel-Plants/N-5yc1vZc8rnZ484',\n",
       " 'https://bloomscape.com/shop/plants/indoor-plant/',\n",
       " 'https://www.livelyroot.com/products/money-tree?variant=39389423075410&currency=USD&utm_medium=product_sync&utm_source=google&utm_content=sag_organic&utm_campaign=sag_organic',\n",
       " 'https://maps.google.com/maps?q=house+plants&um=1&ie=UTF-8&sa=X&ved=2ahUKEwiwh4TMz_H3AhXtjYkEHR9tDWcQ_AUoA3oECAEQBQ',\n",
       " 'https://www.countryliving.com/gardening/garden-ideas/advice/g1341/indoor-gardening/',\n",
       " 'https://www.homedepot.com/b/Outdoors-Garden-Center-Indoor-Plants/Low-Light/N-5yc1vZc8rnZ1z1c69u',\n",
       " 'https://www.lowes.com/pl/House-plants-Plants-bulbs-seeds-Plants-planters-Lawn-garden/4294392549',\n",
       " 'https://www.womenshealthmag.com/life/g26610281/best-indoor-plants/',\n",
       " 'https://www.countryliving.com/gardening/g29873679/bathroom-shower-plant-ideas/',\n",
       " 'https://www.ikea.com/us/en/cat/plants-10779/',\n",
       " 'https://www.goodhousekeeping.com/home/gardening/g26477167/best-indoor-trees/']"
      ]
     },
     "execution_count": 47,
     "metadata": {},
     "output_type": "execute_result"
    }
   ],
   "source": [
    "results1"
   ]
  },
  {
   "cell_type": "code",
   "execution_count": null,
   "metadata": {},
   "outputs": [],
   "source": []
  },
  {
   "cell_type": "code",
   "execution_count": null,
   "metadata": {},
   "outputs": [],
   "source": []
  },
  {
   "cell_type": "code",
   "execution_count": null,
   "metadata": {},
   "outputs": [],
   "source": []
  },
  {
   "cell_type": "code",
   "execution_count": 58,
   "metadata": {
    "id": "VLDZ91OhfVjL"
   },
   "outputs": [],
   "source": [
    "#gets the length of scrapped urls for each search\n",
    "len1=[]\n",
    "len2=[]\n",
    "len3=[]\n",
    "\n",
    "for i in results1:\n",
    "    len1.append(len(i))\n",
    "for i in results2:\n",
    "    len2.append(len(i))\n",
    "for i in results3:\n",
    "    len3.append(len(i))\n",
    "     "
   ]
  },
  {
   "cell_type": "code",
   "execution_count": 60,
   "metadata": {},
   "outputs": [
    {
     "name": "stdout",
     "output_type": "stream",
     "text": [
      "182 805 894\n"
     ]
    }
   ],
   "source": [
    "print(max(len1), max(len2), max(len3))"
   ]
  },
  {
   "cell_type": "code",
   "execution_count": null,
   "metadata": {},
   "outputs": [],
   "source": []
  },
  {
   "cell_type": "code",
   "execution_count": 61,
   "metadata": {
    "id": "3chR0oxjczDV"
   },
   "outputs": [],
   "source": [
    "#create seperate df for the search engines\n",
    "df1=pd.DataFrame(None,columns=['Search_Engine','Key_Words','URL'])\n",
    "df2=pd.DataFrame(None,columns=['Search_Engine','Key_Words','URL'])\n",
    "df3=pd.DataFrame(None,columns=['Search_Engine','Key_Words','URL'])\n"
   ]
  },
  {
   "cell_type": "code",
   "execution_count": null,
   "metadata": {},
   "outputs": [],
   "source": []
  },
  {
   "cell_type": "code",
   "execution_count": null,
   "metadata": {},
   "outputs": [],
   "source": []
  },
  {
   "cell_type": "code",
   "execution_count": 62,
   "metadata": {
    "id": "7SEXzLU2nM3b"
   },
   "outputs": [],
   "source": [
    "#adding urls\n",
    "df1['URL']=results1\n",
    "df2['URL']=results2\n",
    "df3['URL']=results2\n"
   ]
  },
  {
   "cell_type": "code",
   "execution_count": 63,
   "metadata": {
    "id": "-v45pmrinax3"
   },
   "outputs": [],
   "source": [
    "#add search engine names\n",
    "df1['Search_Engine']='Google'\n",
    "df2['Search_Engine']='Yahoo'\n",
    "df3['Search_Engine']='Bing'\n"
   ]
  },
  {
   "cell_type": "code",
   "execution_count": null,
   "metadata": {},
   "outputs": [],
   "source": []
  },
  {
   "cell_type": "code",
   "execution_count": null,
   "metadata": {},
   "outputs": [],
   "source": []
  },
  {
   "cell_type": "code",
   "execution_count": 81,
   "metadata": {
    "id": "5YTV3FFNoJON"
   },
   "outputs": [],
   "source": [
    "#add search terms for google\n",
    "x=0\n",
    "y=0\n",
    "for i in range(0,17):\n",
    "    df1['Key_Words'].iloc[x:y+len1[i]]=plants_search[i]\n",
    "    x=y+len1[i]\n",
    "    y=x\n"
   ]
  },
  {
   "cell_type": "code",
   "execution_count": null,
   "metadata": {},
   "outputs": [],
   "source": []
  },
  {
   "cell_type": "code",
   "execution_count": 67,
   "metadata": {},
   "outputs": [
    {
     "name": "stdout",
     "output_type": "stream",
     "text": [
      "24\n"
     ]
    }
   ],
   "source": [
    "print(len(df1[['Key_Words', 'URL']]))"
   ]
  },
  {
   "cell_type": "code",
   "execution_count": null,
   "metadata": {},
   "outputs": [],
   "source": []
  },
  {
   "cell_type": "code",
   "execution_count": null,
   "metadata": {},
   "outputs": [],
   "source": []
  },
  {
   "cell_type": "code",
   "execution_count": null,
   "metadata": {},
   "outputs": [],
   "source": []
  },
  {
   "cell_type": "code",
   "execution_count": null,
   "metadata": {},
   "outputs": [],
   "source": []
  },
  {
   "cell_type": "code",
   "execution_count": 82,
   "metadata": {
    "id": "nJ00uuJK2ZcH"
   },
   "outputs": [],
   "source": [
    "#add search terms for yahoo\n",
    "x=0\n",
    "y=0\n",
    "for i in range(0,17):\n",
    "    df2['Key_Words'].iloc[x:y+len2[i]]=plants_search[i]\n",
    "    x=y+len2[i]\n",
    "    y=x\n"
   ]
  },
  {
   "cell_type": "code",
   "execution_count": null,
   "metadata": {},
   "outputs": [],
   "source": []
  },
  {
   "cell_type": "code",
   "execution_count": null,
   "metadata": {},
   "outputs": [],
   "source": []
  },
  {
   "cell_type": "code",
   "execution_count": null,
   "metadata": {},
   "outputs": [],
   "source": []
  },
  {
   "cell_type": "code",
   "execution_count": 83,
   "metadata": {
    "id": "Kh2ydrdA2aIz"
   },
   "outputs": [],
   "source": [
    "#add search terms for bing\n",
    "x=0\n",
    "y=0\n",
    "for i in range(0,17):\n",
    "    df3['Key_Words'].iloc[x:y+len3[i]]=plants_search[i]\n",
    "    x=y+len3[i]\n",
    "    y=x"
   ]
  },
  {
   "cell_type": "code",
   "execution_count": null,
   "metadata": {},
   "outputs": [],
   "source": []
  },
  {
   "cell_type": "code",
   "execution_count": null,
   "metadata": {},
   "outputs": [],
   "source": []
  },
  {
   "cell_type": "code",
   "execution_count": null,
   "metadata": {},
   "outputs": [],
   "source": []
  },
  {
   "cell_type": "code",
   "execution_count": 70,
   "metadata": {
    "colab": {
     "base_uri": "https://localhost:8080/",
     "height": 363
    },
    "id": "dF2DUEhCnwh7",
    "outputId": "628747db-72e5-46ef-b5ae-66f027ea0ff7"
   },
   "outputs": [
    {
     "data": {
      "text/html": [
       "<div>\n",
       "<style scoped>\n",
       "    .dataframe tbody tr th:only-of-type {\n",
       "        vertical-align: middle;\n",
       "    }\n",
       "\n",
       "    .dataframe tbody tr th {\n",
       "        vertical-align: top;\n",
       "    }\n",
       "\n",
       "    .dataframe thead th {\n",
       "        text-align: right;\n",
       "    }\n",
       "</style>\n",
       "<table border=\"1\" class=\"dataframe\">\n",
       "  <thead>\n",
       "    <tr style=\"text-align: right;\">\n",
       "      <th></th>\n",
       "      <th>Search_Engine</th>\n",
       "      <th>Key_Words</th>\n",
       "      <th>URL</th>\n",
       "    </tr>\n",
       "  </thead>\n",
       "  <tbody>\n",
       "    <tr>\n",
       "      <th>0</th>\n",
       "      <td>Yahoo</td>\n",
       "      <td>house plants</td>\n",
       "      <td>https://r.search.yahoo.com/_ylt=AwrJ61mZZYlizK...</td>\n",
       "    </tr>\n",
       "    <tr>\n",
       "      <th>1</th>\n",
       "      <td>Yahoo</td>\n",
       "      <td>house plants</td>\n",
       "      <td>https://r.search.yahoo.com/_ylt=AwrJ61mZZYlizK...</td>\n",
       "    </tr>\n",
       "    <tr>\n",
       "      <th>2</th>\n",
       "      <td>Yahoo</td>\n",
       "      <td>house plants</td>\n",
       "      <td>https://r.search.yahoo.com/_ylt=AwrJ61mZZYlizK...</td>\n",
       "    </tr>\n",
       "    <tr>\n",
       "      <th>3</th>\n",
       "      <td>Yahoo</td>\n",
       "      <td>house plants</td>\n",
       "      <td>https://images.search.yahoo.com/search/images;...</td>\n",
       "    </tr>\n",
       "    <tr>\n",
       "      <th>4</th>\n",
       "      <td>Yahoo</td>\n",
       "      <td>house plants</td>\n",
       "      <td>https://search.yahoo.com/preferences/preferenc...</td>\n",
       "    </tr>\n",
       "    <tr>\n",
       "      <th>5</th>\n",
       "      <td>Yahoo</td>\n",
       "      <td>house plants</td>\n",
       "      <td>https://r.search.yahoo.com/_ylt=AwrJ61mZZYlizK...</td>\n",
       "    </tr>\n",
       "    <tr>\n",
       "      <th>6</th>\n",
       "      <td>Yahoo</td>\n",
       "      <td>house plants</td>\n",
       "      <td>https://r.search.yahoo.com/_ylt=AwrJ61mZZYlizK...</td>\n",
       "    </tr>\n",
       "    <tr>\n",
       "      <th>7</th>\n",
       "      <td>Yahoo</td>\n",
       "      <td>house plants</td>\n",
       "      <td>https://r.search.yahoo.com/_ylt=AwrJ61mZZYlizK...</td>\n",
       "    </tr>\n",
       "    <tr>\n",
       "      <th>8</th>\n",
       "      <td>Yahoo</td>\n",
       "      <td>house plants</td>\n",
       "      <td>https://search.yahoo.com/search;_ylt=AwrJ61mZZ...</td>\n",
       "    </tr>\n",
       "    <tr>\n",
       "      <th>9</th>\n",
       "      <td>Yahoo</td>\n",
       "      <td>house plants</td>\n",
       "      <td>https://r.search.yahoo.com/_ylt=AwrJ61mZZYlizK...</td>\n",
       "    </tr>\n",
       "  </tbody>\n",
       "</table>\n",
       "</div>"
      ],
      "text/plain": [
       "  Search_Engine     Key_Words  \\\n",
       "0         Yahoo  house plants   \n",
       "1         Yahoo  house plants   \n",
       "2         Yahoo  house plants   \n",
       "3         Yahoo  house plants   \n",
       "4         Yahoo  house plants   \n",
       "5         Yahoo  house plants   \n",
       "6         Yahoo  house plants   \n",
       "7         Yahoo  house plants   \n",
       "8         Yahoo  house plants   \n",
       "9         Yahoo  house plants   \n",
       "\n",
       "                                                 URL  \n",
       "0  https://r.search.yahoo.com/_ylt=AwrJ61mZZYlizK...  \n",
       "1  https://r.search.yahoo.com/_ylt=AwrJ61mZZYlizK...  \n",
       "2  https://r.search.yahoo.com/_ylt=AwrJ61mZZYlizK...  \n",
       "3  https://images.search.yahoo.com/search/images;...  \n",
       "4  https://search.yahoo.com/preferences/preferenc...  \n",
       "5  https://r.search.yahoo.com/_ylt=AwrJ61mZZYlizK...  \n",
       "6  https://r.search.yahoo.com/_ylt=AwrJ61mZZYlizK...  \n",
       "7  https://r.search.yahoo.com/_ylt=AwrJ61mZZYlizK...  \n",
       "8  https://search.yahoo.com/search;_ylt=AwrJ61mZZ...  \n",
       "9  https://r.search.yahoo.com/_ylt=AwrJ61mZZYlizK...  "
      ]
     },
     "execution_count": 70,
     "metadata": {},
     "output_type": "execute_result"
    }
   ],
   "source": [
    "df2.head(10)"
   ]
  },
  {
   "cell_type": "code",
   "execution_count": null,
   "metadata": {},
   "outputs": [],
   "source": []
  },
  {
   "cell_type": "code",
   "execution_count": null,
   "metadata": {},
   "outputs": [],
   "source": []
  },
  {
   "cell_type": "code",
   "execution_count": 84,
   "metadata": {
    "id": "UkhJfYne-Hoo"
   },
   "outputs": [],
   "source": [
    "\n",
    "total=pd.concat([df1, df2,df3], axis=0)          "
   ]
  },
  {
   "cell_type": "code",
   "execution_count": null,
   "metadata": {},
   "outputs": [],
   "source": []
  },
  {
   "cell_type": "code",
   "execution_count": null,
   "metadata": {},
   "outputs": [],
   "source": []
  },
  {
   "cell_type": "code",
   "execution_count": null,
   "metadata": {},
   "outputs": [],
   "source": []
  },
  {
   "cell_type": "code",
   "execution_count": 85,
   "metadata": {},
   "outputs": [
    {
     "data": {
      "text/html": [
       "<div>\n",
       "<style scoped>\n",
       "    .dataframe tbody tr th:only-of-type {\n",
       "        vertical-align: middle;\n",
       "    }\n",
       "\n",
       "    .dataframe tbody tr th {\n",
       "        vertical-align: top;\n",
       "    }\n",
       "\n",
       "    .dataframe thead th {\n",
       "        text-align: right;\n",
       "    }\n",
       "</style>\n",
       "<table border=\"1\" class=\"dataframe\">\n",
       "  <thead>\n",
       "    <tr style=\"text-align: right;\">\n",
       "      <th></th>\n",
       "      <th>Search_Engine</th>\n",
       "      <th>Key_Words</th>\n",
       "      <th>URL</th>\n",
       "    </tr>\n",
       "  </thead>\n",
       "  <tbody>\n",
       "    <tr>\n",
       "      <th>0</th>\n",
       "      <td>Google</td>\n",
       "      <td>house plants</td>\n",
       "      <td>https://www.countryliving.com/gardening/g26753...</td>\n",
       "    </tr>\n",
       "    <tr>\n",
       "      <th>1</th>\n",
       "      <td>Google</td>\n",
       "      <td>house plants</td>\n",
       "      <td>https://www.countryliving.com/gardening/garden...</td>\n",
       "    </tr>\n",
       "    <tr>\n",
       "      <th>2</th>\n",
       "      <td>Google</td>\n",
       "      <td>house plants</td>\n",
       "      <td>https://www.target.com/p/large-verigated-plant...</td>\n",
       "    </tr>\n",
       "    <tr>\n",
       "      <th>3</th>\n",
       "      <td>Google</td>\n",
       "      <td>house plants</td>\n",
       "      <td>https://www.homedepot.com/b/Outdoors-Garden-Ce...</td>\n",
       "    </tr>\n",
       "    <tr>\n",
       "      <th>4</th>\n",
       "      <td>Google</td>\n",
       "      <td>house plants</td>\n",
       "      <td>https://www.goodhousekeeping.com/home/gardenin...</td>\n",
       "    </tr>\n",
       "    <tr>\n",
       "      <th>5</th>\n",
       "      <td>Google</td>\n",
       "      <td>house plants</td>\n",
       "      <td>https://www.amazon.com/Houseplants-Plants-Cont...</td>\n",
       "    </tr>\n",
       "    <tr>\n",
       "      <th>6</th>\n",
       "      <td>Google</td>\n",
       "      <td>house plants</td>\n",
       "      <td>https://www.plants.com/c/house-plants</td>\n",
       "    </tr>\n",
       "    <tr>\n",
       "      <th>7</th>\n",
       "      <td>Google</td>\n",
       "      <td>house plants</td>\n",
       "      <td>https://www.goodhousekeeping.com/home/gardenin...</td>\n",
       "    </tr>\n",
       "    <tr>\n",
       "      <th>8</th>\n",
       "      <td>Google</td>\n",
       "      <td>house plants</td>\n",
       "      <td>https://www.livelyroot.com/products/pilea-pepe...</td>\n",
       "    </tr>\n",
       "    <tr>\n",
       "      <th>9</th>\n",
       "      <td>Google</td>\n",
       "      <td>house plants</td>\n",
       "      <td>https://www.homedepot.com/b/Outdoors-Garden-Ce...</td>\n",
       "    </tr>\n",
       "  </tbody>\n",
       "</table>\n",
       "</div>"
      ],
      "text/plain": [
       "  Search_Engine     Key_Words  \\\n",
       "0        Google  house plants   \n",
       "1        Google  house plants   \n",
       "2        Google  house plants   \n",
       "3        Google  house plants   \n",
       "4        Google  house plants   \n",
       "5        Google  house plants   \n",
       "6        Google  house plants   \n",
       "7        Google  house plants   \n",
       "8        Google  house plants   \n",
       "9        Google  house plants   \n",
       "\n",
       "                                                 URL  \n",
       "0  https://www.countryliving.com/gardening/g26753...  \n",
       "1  https://www.countryliving.com/gardening/garden...  \n",
       "2  https://www.target.com/p/large-verigated-plant...  \n",
       "3  https://www.homedepot.com/b/Outdoors-Garden-Ce...  \n",
       "4  https://www.goodhousekeeping.com/home/gardenin...  \n",
       "5  https://www.amazon.com/Houseplants-Plants-Cont...  \n",
       "6              https://www.plants.com/c/house-plants  \n",
       "7  https://www.goodhousekeeping.com/home/gardenin...  \n",
       "8  https://www.livelyroot.com/products/pilea-pepe...  \n",
       "9  https://www.homedepot.com/b/Outdoors-Garden-Ce...  "
      ]
     },
     "execution_count": 85,
     "metadata": {},
     "output_type": "execute_result"
    }
   ],
   "source": [
    "total.head(10)"
   ]
  },
  {
   "cell_type": "code",
   "execution_count": null,
   "metadata": {},
   "outputs": [],
   "source": []
  },
  {
   "cell_type": "code",
   "execution_count": null,
   "metadata": {},
   "outputs": [],
   "source": []
  },
  {
   "cell_type": "code",
   "execution_count": 86,
   "metadata": {},
   "outputs": [
    {
     "data": {
      "text/plain": [
       "0    https://www.countryliving.com/gardening/g26753...\n",
       "0    https://r.search.yahoo.com/_ylt=AwrJ61mZZYlizK...\n",
       "0    https://r.search.yahoo.com/_ylt=AwrJ61mZZYlizK...\n",
       "Name: URL, dtype: object"
      ]
     },
     "execution_count": 86,
     "metadata": {},
     "output_type": "execute_result"
    }
   ],
   "source": [
    "total['URL'][0]"
   ]
  },
  {
   "cell_type": "code",
   "execution_count": null,
   "metadata": {},
   "outputs": [],
   "source": []
  },
  {
   "cell_type": "code",
   "execution_count": 87,
   "metadata": {},
   "outputs": [],
   "source": [
    "total.reset_index(inplace = True)"
   ]
  },
  {
   "cell_type": "code",
   "execution_count": null,
   "metadata": {},
   "outputs": [],
   "source": []
  },
  {
   "cell_type": "code",
   "execution_count": 76,
   "metadata": {},
   "outputs": [
    {
     "data": {
      "text/plain": [
       "166"
      ]
     },
     "execution_count": 76,
     "metadata": {},
     "output_type": "execute_result"
    }
   ],
   "source": [
    "len(total)"
   ]
  },
  {
   "cell_type": "code",
   "execution_count": null,
   "metadata": {},
   "outputs": [],
   "source": []
  },
  {
   "cell_type": "code",
   "execution_count": 75,
   "metadata": {},
   "outputs": [
    {
     "data": {
      "text/plain": [
       "'https://www.countryliving.com/gardening/g26753835/indoor-trees/'"
      ]
     },
     "execution_count": 75,
     "metadata": {},
     "output_type": "execute_result"
    }
   ],
   "source": [
    "(total['URL'][0])"
   ]
  },
  {
   "cell_type": "code",
   "execution_count": 78,
   "metadata": {
    "colab": {
     "base_uri": "https://localhost:8080/",
     "height": 206
    },
    "id": "bzXplo0f_LSm",
    "outputId": "51e274e0-d521-45a7-c5ab-2c9934c4cfe4"
   },
   "outputs": [
    {
     "data": {
      "text/html": [
       "<div>\n",
       "<style scoped>\n",
       "    .dataframe tbody tr th:only-of-type {\n",
       "        vertical-align: middle;\n",
       "    }\n",
       "\n",
       "    .dataframe tbody tr th {\n",
       "        vertical-align: top;\n",
       "    }\n",
       "\n",
       "    .dataframe thead th {\n",
       "        text-align: right;\n",
       "    }\n",
       "</style>\n",
       "<table border=\"1\" class=\"dataframe\">\n",
       "  <thead>\n",
       "    <tr style=\"text-align: right;\">\n",
       "      <th></th>\n",
       "      <th>index</th>\n",
       "      <th>Search_Engine</th>\n",
       "      <th>Key_Words</th>\n",
       "      <th>URL</th>\n",
       "    </tr>\n",
       "  </thead>\n",
       "  <tbody>\n",
       "    <tr>\n",
       "      <th>161</th>\n",
       "      <td>66</td>\n",
       "      <td>Bing</td>\n",
       "      <td>house plants</td>\n",
       "      <td>https://r.search.yahoo.com/_ylt=AwrJ61mZZYlizK...</td>\n",
       "    </tr>\n",
       "    <tr>\n",
       "      <th>162</th>\n",
       "      <td>67</td>\n",
       "      <td>Bing</td>\n",
       "      <td>house plants</td>\n",
       "      <td>https://r.search.yahoo.com/_ylt=AwrJ61mZZYlizK...</td>\n",
       "    </tr>\n",
       "    <tr>\n",
       "      <th>163</th>\n",
       "      <td>68</td>\n",
       "      <td>Bing</td>\n",
       "      <td>house plants</td>\n",
       "      <td>https://search.yahoo.com/search?ei=UTF-8&amp;</td>\n",
       "    </tr>\n",
       "    <tr>\n",
       "      <th>164</th>\n",
       "      <td>69</td>\n",
       "      <td>Bing</td>\n",
       "      <td>house plants</td>\n",
       "      <td>https://help.yahoo.com/l/us/yahoo/search/;_ylt...</td>\n",
       "    </tr>\n",
       "    <tr>\n",
       "      <th>165</th>\n",
       "      <td>70</td>\n",
       "      <td>Bing</td>\n",
       "      <td>house plants</td>\n",
       "      <td>https://r.search.yahoo.com/_ylt=AwrJ61mZZYlizK...</td>\n",
       "    </tr>\n",
       "  </tbody>\n",
       "</table>\n",
       "</div>"
      ],
      "text/plain": [
       "     index Search_Engine     Key_Words  \\\n",
       "161     66          Bing  house plants   \n",
       "162     67          Bing  house plants   \n",
       "163     68          Bing  house plants   \n",
       "164     69          Bing  house plants   \n",
       "165     70          Bing  house plants   \n",
       "\n",
       "                                                   URL  \n",
       "161  https://r.search.yahoo.com/_ylt=AwrJ61mZZYlizK...  \n",
       "162  https://r.search.yahoo.com/_ylt=AwrJ61mZZYlizK...  \n",
       "163          https://search.yahoo.com/search?ei=UTF-8&  \n",
       "164  https://help.yahoo.com/l/us/yahoo/search/;_ylt...  \n",
       "165  https://r.search.yahoo.com/_ylt=AwrJ61mZZYlizK...  "
      ]
     },
     "execution_count": 78,
     "metadata": {},
     "output_type": "execute_result"
    }
   ],
   "source": [
    "total.tail()"
   ]
  },
  {
   "cell_type": "code",
   "execution_count": 88,
   "metadata": {},
   "outputs": [
    {
     "data": {
      "text/plain": [
       "house plants    166\n",
       "Name: Key_Words, dtype: int64"
      ]
     },
     "execution_count": 88,
     "metadata": {},
     "output_type": "execute_result"
    }
   ],
   "source": [
    "total.Key_Words.value_counts()"
   ]
  },
  {
   "cell_type": "code",
   "execution_count": null,
   "metadata": {},
   "outputs": [],
   "source": []
  },
  {
   "cell_type": "code",
   "execution_count": null,
   "metadata": {},
   "outputs": [],
   "source": []
  },
  {
   "cell_type": "code",
   "execution_count": 27,
   "metadata": {},
   "outputs": [],
   "source": [
    "connection = mysql.connector.connect(host='127.0.0.1',\n",
    "                                         port=3306,\n",
    "                                         database='my_custom_bot',\n",
    "                                         user='root',\n",
    "                                         password='Soyunaloca1',\n",
    "                                         auth_plugin='mysql_native_password')\n",
    "mycursor=connection.cursor()"
   ]
  },
  {
   "cell_type": "code",
   "execution_count": 92,
   "metadata": {
    "id": "C7hVGKHAEuNM"
   },
   "outputs": [
    {
     "name": "stdout",
     "output_type": "stream",
     "text": [
      "Connected to MySQL Server version  8.0.28\n",
      "You're connected to database:  ('my_custom_bot',)\n",
      "MySQL connection is closed\n"
     ]
    }
   ],
   "source": [
    "#Adding values to the database\n",
    "try:\n",
    "    connection = mysql.connector.connect(host='localhost',\n",
    "                                         port=3306,\n",
    "                                         database='MY_CUSTOM_BOT',\n",
    "                                         user='root',\n",
    "                                         password='Soyunaloca1',\n",
    "                                         auth_plugin='mysql_native_password')\n",
    "    if connection.is_connected():\n",
    "        db_Info = connection.get_server_info()\n",
    "        print(\"Connected to MySQL Server version \", db_Info)\n",
    "        cursor = connection.cursor()\n",
    "        cursor.execute(\"select database();\")\n",
    "        record = cursor.fetchone()\n",
    "        print(\"You're connected to database: \", record)\n",
    "        sql = \"INSERT INTO URLS_TABLE(ID, Search_Engine, key_word, URL) VALUES (%s, %s, %s, %s)\"\n",
    "        j = 0\n",
    "        for i in range(len(df1)):\n",
    "            engine = df1['Search_Engine'][i]\n",
    "            query = df1['Key_Words'][i]\n",
    "            url = df1['URL'][i]\n",
    "            cursor.execute(sql, (j, engine,query, url))\n",
    "            j+=1\n",
    "            connection.commit()\n",
    "            \n",
    "        for i in range(len(df2)):\n",
    "            engine = df2['Search_Engine'][i]\n",
    "            query = df2['Key_Words'][i]\n",
    "            url = df2['URL'][i]\n",
    "            cursor.execute(sql, (j, engine,query, url))\n",
    "            j+=1\n",
    "            #cursor.commit() \n",
    "            connection.commit()\n",
    "        for i in range(len(df3)):\n",
    "            engine = df3['Search_Engine'][i]\n",
    "            query = df3['Key_Words'][i]\n",
    "            url = df3['URL'][i]\n",
    "            cursor.execute(sql, (j, engine,query, url))\n",
    "            j+=1\n",
    "            #cursor.commit() \n",
    "            connection.commit()\n",
    "            \n",
    "            \n",
    "\n",
    "except Error as e:\n",
    "    print(\"Error while connecting to MySQL\", e)\n",
    "    \n",
    "finally:\n",
    "    if connection.is_connected():\n",
    "        cursor.close()\n",
    "        connection.close()\n",
    "        print(\"MySQL connection is closed\")"
   ]
  },
  {
   "cell_type": "code",
   "execution_count": null,
   "metadata": {},
   "outputs": [],
   "source": []
  },
  {
   "cell_type": "code",
   "execution_count": null,
   "metadata": {},
   "outputs": [],
   "source": []
  },
  {
   "cell_type": "code",
   "execution_count": null,
   "metadata": {},
   "outputs": [],
   "source": []
  },
  {
   "cell_type": "code",
   "execution_count": null,
   "metadata": {},
   "outputs": [],
   "source": []
  },
  {
   "cell_type": "code",
   "execution_count": null,
   "metadata": {},
   "outputs": [],
   "source": []
  },
  {
   "cell_type": "code",
   "execution_count": null,
   "metadata": {},
   "outputs": [],
   "source": []
  },
  {
   "cell_type": "code",
   "execution_count": null,
   "metadata": {},
   "outputs": [],
   "source": []
  },
  {
   "cell_type": "code",
   "execution_count": null,
   "metadata": {},
   "outputs": [],
   "source": [
    "DB_NAME = 'my_custom_bot'\n",
    "TABLES['results'] = (\n",
    "    \"CREATE TABLE `results` (\"\n",
    "    \"  `results_id` char(10) NOT NULL,\"\n",
    "    \"  `data_type` varchar(40) NOT NULL,\"\n",
    "    \"  `data_details` varchar(40) NOT NULL,\"\n",
    "    \"  FOREIGN KEY (`results_id`)\"\n",
    "    \") ENGINE=InnoDB\")"
   ]
  },
  {
   "cell_type": "code",
   "execution_count": null,
   "metadata": {},
   "outputs": [],
   "source": [
    "\n",
    "cnx = mysql.connector.connect(user='newuser', database='MY_CUSTOM_BOT')\n",
    "cursor = cnx.cursor()\n",
    "\n",
    "tomorrow = datetime.now().date() + timedelta(days=1)\n",
    "\n",
    "add_results = (\"INSERT INTO results \"\n",
    "               \"(results_id, data_type, data_details) \"\n",
    "               \"VALUES (%s, %s, %s)\")\n",
    "\n",
    "\n",
    "data_results = ('Geert', 'Vanderkelen', tomorrow, 'M', date(1977, 6, 14))\n",
    "\n",
    "# Insert new employee\n",
    "cursor.execute(add_results, data_results)\n",
    "emp_no = cursor.lastrowid\n",
    "\n",
    "\n",
    "# commit data to the database\n",
    "cnx.commit()\n",
    "\n",
    "cursor.close()\n",
    "cnx.close()"
   ]
  },
  {
   "cell_type": "code",
   "execution_count": 40,
   "metadata": {},
   "outputs": [
    {
     "name": "stdout",
     "output_type": "stream",
     "text": [
      "15 Best Indoor Plants - Easy Indoor Gardening Ideas\n"
     ]
    }
   ],
   "source": [
    "# importing the modules\n",
    "from urllib.request import urlopen\n",
    " \n",
    "# target url\n",
    "url = 'https://www.countryliving.com/gardening/garden-ideas/advice/g1341/indoor-gardening/'\n",
    "# using the BeautifulSoup module\n",
    "soup = BeautifulSoup(urlopen(url))\n",
    " \n",
    "# displaying the title\n",
    "#print(\"Title of the website is : \")\n",
    "print (soup.title.get_text())"
   ]
  },
  {
   "cell_type": "code",
   "execution_count": 58,
   "metadata": {},
   "outputs": [
    {
     "ename": "FileNotFoundError",
     "evalue": "[Errno 2] No such file or directory: '1810.04805.pdf'",
     "output_type": "error",
     "traceback": [
      "\u001b[1;31m---------------------------------------------------------------------------\u001b[0m",
      "\u001b[1;31mFileNotFoundError\u001b[0m                         Traceback (most recent call last)",
      "\u001b[1;32m~\\AppData\\Local\\Temp/ipykernel_12548/1828330847.py\u001b[0m in \u001b[0;36m<module>\u001b[1;34m\u001b[0m\n\u001b[0;32m      2\u001b[0m \u001b[0mfile\u001b[0m \u001b[1;33m=\u001b[0m \u001b[1;34m\"1810.04805.pdf\"\u001b[0m\u001b[1;33m\u001b[0m\u001b[1;33m\u001b[0m\u001b[0m\n\u001b[0;32m      3\u001b[0m \u001b[1;31m# file = \"1710.05006.pdf\"\u001b[0m\u001b[1;33m\u001b[0m\u001b[1;33m\u001b[0m\u001b[0m\n\u001b[1;32m----> 4\u001b[1;33m \u001b[0mpdf_file\u001b[0m \u001b[1;33m=\u001b[0m \u001b[0mpikepdf\u001b[0m\u001b[1;33m.\u001b[0m\u001b[0mPdf\u001b[0m\u001b[1;33m.\u001b[0m\u001b[0mopen\u001b[0m\u001b[1;33m(\u001b[0m\u001b[0mfile\u001b[0m\u001b[1;33m)\u001b[0m\u001b[1;33m\u001b[0m\u001b[1;33m\u001b[0m\u001b[0m\n\u001b[0m\u001b[0;32m      5\u001b[0m \u001b[0mpdf_urls\u001b[0m \u001b[1;33m=\u001b[0m \u001b[1;33m[\u001b[0m\u001b[1;33m]\u001b[0m\u001b[1;33m\u001b[0m\u001b[1;33m\u001b[0m\u001b[0m\n\u001b[0;32m      6\u001b[0m \u001b[1;31m# iterate over PDF pages\u001b[0m\u001b[1;33m\u001b[0m\u001b[1;33m\u001b[0m\u001b[0m\n",
      "\u001b[1;32m~\\anaconda3\\lib\\site-packages\\pikepdf\\_methods.py\u001b[0m in \u001b[0;36mopen\u001b[1;34m(filename_or_stream, password, hex_password, ignore_xref_streams, suppress_warnings, attempt_recovery, inherit_page_attributes, access_mode, allow_overwriting_input)\u001b[0m\n\u001b[0;32m    921\u001b[0m                 \u001b[0mtmp_stream\u001b[0m \u001b[1;33m=\u001b[0m \u001b[0mBytesIO\u001b[0m\u001b[1;33m(\u001b[0m\u001b[1;33m)\u001b[0m\u001b[1;33m\u001b[0m\u001b[1;33m\u001b[0m\u001b[0m\n\u001b[0;32m    922\u001b[0m                 \u001b[0mshutil\u001b[0m\u001b[1;33m.\u001b[0m\u001b[0mcopyfileobj\u001b[0m\u001b[1;33m(\u001b[0m\u001b[0mpdf_file\u001b[0m\u001b[1;33m,\u001b[0m \u001b[0mtmp_stream\u001b[0m\u001b[1;33m)\u001b[0m\u001b[1;33m\u001b[0m\u001b[1;33m\u001b[0m\u001b[0m\n\u001b[1;32m--> 923\u001b[1;33m         pdf = Pdf._open(\n\u001b[0m\u001b[0;32m    924\u001b[0m             \u001b[0mtmp_stream\u001b[0m \u001b[1;32mor\u001b[0m \u001b[0mfilename_or_stream\u001b[0m\u001b[1;33m,\u001b[0m\u001b[1;33m\u001b[0m\u001b[1;33m\u001b[0m\u001b[0m\n\u001b[0;32m    925\u001b[0m             \u001b[0mpassword\u001b[0m\u001b[1;33m=\u001b[0m\u001b[0mpassword\u001b[0m\u001b[1;33m,\u001b[0m\u001b[1;33m\u001b[0m\u001b[1;33m\u001b[0m\u001b[0m\n",
      "\u001b[1;31mFileNotFoundError\u001b[0m: [Errno 2] No such file or directory: '1810.04805.pdf'"
     ]
    }
   ],
   "source": [
    "import pikepdf # pip3 install pikepdf\n",
    "file = \"1810.04805.pdf\"\n",
    "# file = \"1710.05006.pdf\"\n",
    "pdf_file = pikepdf.Pdf.open(file)\n",
    "pdf_urls = []\n",
    "# iterate over PDF pages\n",
    "for page in pdf_file.pages:\n",
    "    for annots in page.get(\"/Annots\"):\n",
    "        uri = annots.get(\"/A\").get(\"/URI\")\n",
    "        if uri is not None:\n",
    "            print(\"[+] URL Found:\", uri)\n",
    "            pdf_urls.append(uri)\n",
    "\n",
    "print(\"[*] Total URLs extracted:\", len(pdf_urls))"
   ]
  },
  {
   "cell_type": "code",
   "execution_count": 59,
   "metadata": {},
   "outputs": [
    {
     "name": "stdout",
     "output_type": "stream",
     "text": [
      "98\n"
     ]
    }
   ],
   "source": [
    "ua = UserAgent()\n",
    "query=\"plants\"\n",
    "number_result=100\n",
    "google_url = \"https://google.com/search?q=\" + query + \"&num=\" + str(number_result)\n",
    "response = requests.get(google_url, {\"User-Agent\": ua.random})\n",
    "soup = BeautifulSoup(response.text, \"html.parser\")\n",
    "\n",
    "result_div = soup.find_all('div', attrs = {'class': 'ZINbbc'})\n",
    "\n",
    "links = []\n",
    "titles = []\n",
    "descriptions = []\n",
    "for r in result_div:\n",
    "    # Checks if each element is present, else, raise exception\n",
    "    try:\n",
    "        link = r.find('a', href = True)\n",
    "        title = r.find('div', attrs={'class':'vvjwJb'}).get_text()\n",
    "        description = r.find('div', attrs={'class':'s3v9rd'}).get_text()\n",
    "        \n",
    "        # Check to make sure everything is present before appending\n",
    "        if link != '' and title != '' and description != '': \n",
    "            links.append(link['href'])\n",
    "            titles.append(title)\n",
    "            descriptions.append(description)\n",
    "    # Next loop if one element is not present\n",
    "    except:\n",
    "        continue\n",
    "\n",
    "print(len(links))"
   ]
  },
  {
   "cell_type": "code",
   "execution_count": 71,
   "metadata": {},
   "outputs": [
    {
     "data": {
      "text/plain": [
       "['Your destination for perfectly potted plants online! We ship nationwide. 30-day return policy, no questions asked.',\n",
       " 'Plants delivered right to your door is fast and easy with Plants.com. Shop the best plant types with a variety of outdoor and indoor plant delivery.',\n",
       " \"We carry a wide variety of all types of plants, from indoor plants and house plants to succulents and snake plants. You'll find small house plants, large house\\xa0...Potted Plants · Exotic Angel Plants · Indoor Plants That are Easy to... · Low Light\",\n",
       " 'Plants that produce grain, fruit, and vegetables also form basic human foods and have been domesticated for millennia. Plants have many cultural and other uses,\\xa0...Portal · Flowering plant · WikiProject Plants · Plant taxonomyKingdom: Plantae; sensu Copeland, 1956Domain: Eukaryota',\n",
       " \"Bring a touch of the great outdoors to your home with IKEA's huge collection of house plants and succulents for affordable prices.\",\n",
       " 'The paddle plant is a bold succulent that has big, round leaves with pink tips. These plants favor bright light so you can have it sit right on\\xa0...Duration: 1:48Posted: Mar 7, 2022',\n",
       " 'Jan 12, 2022 · The best indoor plants on Amazon include floor plants like the fiddle-leaf fig, snake plant, bird of paradise, and monstera.',\n",
       " 'Approx. $13 to $85Feb 27, 2022 · ... but not sure where to begin? Here are 20 of the best indoor plants for every environment and skill level, recommended by plant experts.',\n",
       " 'Shop 1800Flowers for a selection of plants that make excellent plant gifts or will beautifully furnish your home or office! Our plant delivery is quick and\\xa0...',\n",
       " 'Plant List of Accepted Nomenclature, Taxonomy, and Symbols. The PLANTS Database provides standardized information about the vascular plants, mosses,\\xa0...',\n",
       " 'Backed by 5 generations of Grow-How™. Get bigger, better, leafier plants delivered from our greenhouse to your home.',\n",
       " 'Send plants from UrbanStems. Explore our indoor and green plants. Plant delivery available nationwide.',\n",
       " \"Find house plants at Lowe's today. Shop house plants and a variety of lawn & garden products online at Lowes.com.\",\n",
       " \"Find plants, bulbs & seeds at Lowe's today. Shop plants, bulbs & seeds and a variety of lawn & garden products online at Lowes.com.\",\n",
       " 'Results 1 - 48 of 100000+ · However, snake plants do come in different variations, not to mention the hundreds of brands available in the market. We know that\\xa0...',\n",
       " 'Dec 21, 2021 · Shop the best indoor plants online that are easy to care for and best at purifying the air. Add decor and greenery to your living room,\\xa0...',\n",
       " 'Enjoy a wide variety of plants, from indoor Snake Plants and Money Trees to patio and landscaping favorites. Explore small plants, large house plants and\\xa0...',\n",
       " 'Plants, an international, peer-reviewed Open Access journal.',\n",
       " \"House plants make an excellent gift, whether for a special occasion or for no reason at all. They're long lasting and easy to care for, and with our wide\\xa0...\",\n",
       " 'Shop Costco.com for live indoor and outdoor plants, including garden plants, fruit trees, orchids, bulb collections, succulents, bonsai trees, & more.',\n",
       " 'Help Save Plants for People and the Planet. Become a rare plant monitor ... Connecting people and plants to support healthy humans and habitats.',\n",
       " 'Jan 3, 2020 · Looking for the best indoor plants that are low maintenance (aka, hard to kill)? Discover the 13 best house plants, including fiddle-leaf\\xa0...',\n",
       " 'Bonnie Plants is a leading provider of plants for your vegetable garden or herb garden. Shop our wide variety of fresh plants or use our expert gardening\\xa0...',\n",
       " 'Nov 8, 2018 · It was plant stand-up — slightly blue patter with quick takes on Linnaeus ... “I like plants, but I kill so many of them,” said Mr. Poma,\\xa0...',\n",
       " 'plant, (kingdom Plantae), any multicellular eukaryotic life-form characterized by (1) photosynthetic nutrition (a characteristic possessed by all plants\\xa0...',\n",
       " 'Let us help you beautify your world! Look to GreatGardenPlants.com for quality perennials, flowering shrubs, and evergreens, grown in our greenhouses and\\xa0...',\n",
       " '8 days ago · In a new paper published in the journal Communications Biology, University of Florida researchers showed that plants can successfully sprout\\xa0...',\n",
       " 'Apr 13, 2022 · Groovy Plants Ranch, your home for the grooviest plants on earth! We are truly passionate about horticulture, with a strong emphasis on\\xa0...',\n",
       " \"Global Plants is the world's largest database of digitized plant specimens and a locus for international botany research and collaboration. Begin exploring!\",\n",
       " 'Buy plants online from the grower. Over 300 shrubs, rose bushes, houseplants, & trees for sale. Family owned & operated since 1980. Shop our catalog now!',\n",
       " '8 days ago · NASA-funded study breaks new ground in plant research.',\n",
       " 'Keeping ornamental plants in the home and in the workplace increases memory retention and concentration. The calming influence of natural environments is\\xa0...',\n",
       " '8 days ago · The extent to which plants can enhance human life support on other worlds depends on the ability of plants to thrive in extraterrestrial\\xa0...',\n",
       " '2 days ago · A photo of a Nepenthes pitcher plant. Nepenthes pitcher plants have modified leaves that look phallic. (Image credit: Shutterstock).',\n",
       " 'For nearly a century at Monrovia, we have poured our passion and expertise into each plant we grow. Check out our selection of quality plants, blogs,\\xa0...',\n",
       " 'Climate adapted plants for gardeners in the Pacific Northwest ... Xera Plants is a retail plant nursery and grower based in Portland, Oregon.',\n",
       " 'Items 1 - 15 of 1028 · Find out which plants are poisonous to dogs, cats and horses. Common toxic plants include sago palms, lilies, azaleas and tulips.',\n",
       " '6 days ago · The research could also have implications for plants growing in harsh conditions on Earth, he added. \"We\\'ll need to use resources found on the\\xa0...',\n",
       " \"Plants · Houseplant of the week Houseplant of the week: air plant · Cress seeds grown in moon dust raise hopes for lunar crops · Boon for blooms as UK's dry spring\\xa0...\",\n",
       " 'Plants are mainly multicellular organisms, predominantly photosynthetic eukaryotes of the kingdom Plantae. Historically, plants were treated as one of two\\xa0...',\n",
       " \"Mar 2, 2022 · If you love plants but aren't sure how to display them in your home, keep these 27 styling suggestions in mind. You'll have your greenery\\xa0...\",\n",
       " \"We've prepared the following lists of recommended native plants that are highly attractive to pollinators such as native bees, honey bees, butterflies,\\xa0...\",\n",
       " 'This website will help you find the best native plants specifically for your area that attract butterflies and moths and the birds that feed on their\\xa0...',\n",
       " 'Pl@ntNet is a tool to help to identify plants with pictures. Identify, explore and share your observations of wild plants.',\n",
       " 'Patrick Griffith of the Montgomery Botanical Center as we discuss the fascinating biogeographic and cultural history of this plant. This episode was produced in\\xa0...',\n",
       " 'Amidst the California drought, have you torn out your lawn and replaced it with drought-tolerant plants? If not, are you considering it? We want to hear\\xa0...',\n",
       " 'From the tiny buttercup to the giant redwood tree, plants come in all colors, shapes, and sizes. But plants are not only rich in color and variety—they are\\xa0...',\n",
       " '7 days ago · \"Every plant - whether in a lunar sample or in a control - looked the same up until about day six.\" After that, differences emerged. The plants\\xa0...',\n",
       " 'Since 1998, PlantsbyMail has been a trusted source to order plants direct to your door. Choose from our catalog of 200+ varieties of Roses, Azaleas, & More.',\n",
       " 'It includes articles that are useful to and understandable by growers and planters of North American native plants and that contribute significantly to the\\xa0...',\n",
       " 'It is the plants which produce and maintain the terrestrial environment as we know it. Click on the buttons below to find out more about the Plant Kingdom. You\\xa0...',\n",
       " 'Plant Combinations. The desert offers a surprisingly diverse selection of low-water-use landscape plants. Blending this distinctive palette of colors,\\xa0...',\n",
       " '2 days ago · Climate change and other factors are shortening the window when aging Texas power plants can make repairs to run at full strength in hot\\xa0...',\n",
       " 'r/plants: A place to share pictures and discuss growing, maintaining, and propagating houseplants and outdoor decorative plants.',\n",
       " \"Mar 24, 2022 · At Plants For All Seasons You'll Find: Perennials; Annuals; Trees & Shrubs; Ground Cover & Grasses; Herbs & Vegetables; Soils & Mulch; Pottery\\xa0...\",\n",
       " 'Explore interactive dioramas of the forest, desert, and grasslands. Play and learn about plant lifecycles, seasons, and weather.Duration: 0:39Posted: Nov 12, 2014',\n",
       " 'Plants are a kingdom of life forms that includes familiar organisms such as trees, herbs, bushes, grasses, vines, ferns and mosses. Through photosynthesis\\xa0...',\n",
       " '1 day ago · One of the key provisions in the law was a commitment to keep its existing nuclear power fleet online, even if the plants were not profitable.',\n",
       " 'Subscribe now for access to all back content! University of Wisconsin Press COVID-19 Statement. If you are unable to access journal content that\\xa0...',\n",
       " \"Ecosia uses the ad revenue from your searches to plant trees where they are needed the most. By searching with Ecosia, you're not only reforesting our\\xa0...\",\n",
       " 'Find the perfect flowers and plants for your garden, patio or containers. Look through our extensive list of annuals, perennials, roses, flower bulbs,\\xa0...',\n",
       " \"22 hours ago · — Just when you think it's safe to plant your gardens on the Front Range, Colorado weather says think again. Denver and Colorado are in for a\\xa0...\",\n",
       " 'Biology4Kids.com! This tutorial introduces plant basics. Other sections include animal systems, cells, vertebrates, and invertebrates.',\n",
       " \"Live Plant Delivery. While it's hard to beat the beauty and simplicity of flowers, plants also make amazing gifts. Some plants can bring joy to a person for\\xa0...\",\n",
       " 'Plants, People, Planet is a cross-disciplinary Open Access journal, ... and plant species (dogwood vs. willow) affected P plant uptake and leaching.',\n",
       " 'Jan 30, 2021 · Image: Illustration of two people in masks cooing over a potted plant in a stroller. Plants give us purpose, however small. They need nurture\\xa0...',\n",
       " \"Sep 18, 2020 · Indoor gardening is still enjoying a surge in popularity, fed by Instagram's greenery-inspired interior designs, plant-based podcasts,\\xa0...\",\n",
       " \"$15.001 Red Veined Nerve Plant. Amazon. Hirts: House Plants · 2 Living Stone Plant. Amazon. Hirt's Gardens · 3 String of Dolphins Succulent. Amazon · 4\\xa0...Duration: 2:24Posted: Apr 25, 2022\",\n",
       " 'Plants are living organisms belonging to the kingdom Plantae. They include familiar organisms such as trees, herbs, bushes, grasses, vines, ferns, mosses,\\xa0...',\n",
       " \"Find profiles and images of native plants in North America's largest native plant database, in addition to native plant suppliers around the country.\",\n",
       " '3 days ago · A plant grown during the experiment is transferred to a vial for analysis. UF/IFAS/Tyler Jones. When NASA launches Artemis astronauts back to\\xa0...',\n",
       " 'We work with plant breeders around the world to bring the best, most reliable garden plants to growers and gardeners.',\n",
       " \"View our full range of indoor & outdoor plants, pots, accessories & care guides. We're making London greener, and we want you to join us.\",\n",
       " '6 hours ago · The plant store manager also recommended that people stop watering their plants soon. Rain is expected in Denver, so gardeners want to be\\xa0...',\n",
       " '1 day ago · A scene from the Denver Botanic Gardens&#039; annual plant sale, May 7 ... “If you have any plans to plant right now, pull your plants in\\xa0...',\n",
       " \"7 hours ago · They're also not an outdoor plant, except during the summer, in the Northwest. These are plants, many of them endangered, from deserts in places\\xa0...\",\n",
       " 'Nov 4, 2021 · So liven up your room with blooms, like a lipstick plant, or a fresh bouquet and see if your outlook improves. Spider Plants for Moisture. 3/12.',\n",
       " 'Plants Map hosts botanical collections with tools to catalog map, tag and share information about plants.',\n",
       " '... 500-year-old “rule of trees” offers a powerful, new way to describe the structure of almost any leafy tree. By James R. Riordon April 27, 2022. Plants\\xa0...',\n",
       " 'About the Plant Atlas. Florida has over 4,700 species of native or naturalized plants in Florida, including over 4,300 species of vascular plants and over\\xa0...',\n",
       " 'Our plants have been proven in trials conducted in numerous sites worldwide to be: Easy to grow and care for; Covered with blooms; Bright and colorful\\xa0...',\n",
       " 'The Thomas Jefferson Center for Historic Plants, established at Monticello in 1986, collects, preserves, and distributes historic and native plant varieties\\xa0...',\n",
       " 'Invasive alien plants threaten native species and habitats by competing for critical ... Invasive plant species displace and alter native plant communities,\\xa0...',\n",
       " '12 hours ago · The 3D-printed pot can easily be scaled up or down to suit the size of the plant, and contains a water reservoir that holds about 0.7 L of water\\xa0...',\n",
       " \"Click here to find a great selection of Live Plants Garden & Outdoor Living at QVC.com. Don't Just Shop. Q.\",\n",
       " 'House Plants. Refine. Sort By: ... Serendipity Elephant Ears Plant - Alocasia - 4\" Pot ... Shangri-La Philodendron - Easy to Grow House Plant - 4\" Pot.',\n",
       " 'Classic Southern plants selected for Southern gardens. See our plant collection, get helpful tips on gardening and find style advice for your landscape.',\n",
       " 'Choose plants. Browse our Plant Finder, packed with thousands of gorgeous plants. Malva moschata flowers. Getty Images. Grow plants\\xa0...',\n",
       " 'Ensembl Plants is a genome-centric portal for plant species of scientific interest.',\n",
       " 'Check out our plants selection for the very best in unique or custom, handmade pieces from our house plants shops.',\n",
       " '8 days ago · Scientists have grown plants in lunar soil using samples collected during the Apollo missions to the moon. This is the first time plants\\xa0...',\n",
       " 'The Center for Plant Conservation is a network of world class botanical institutions working to save plants from extinction by advancing plant conservation\\xa0...',\n",
       " \"As the U.S.' first plant conservation organization, we conserve and promote New England's native plants to ensure healthy biologically diverse landscapes.\",\n",
       " 'Plant delivery is the perfect gift! A variety of plants are available including flowering plants and potted plants for fast delivery.',\n",
       " 'Plant Select is a western plant introduction program. Explore our unique, smart and sustainable plants inspired by the Rocky Mountain region.',\n",
       " \"1 day ago · Whether you're looking for a low-light loving snake plant, a chic fiddle leaf fig, a flouncy monstera — and plenty of colorful planters to put\\xa0...\",\n",
       " '1 day ago · A good compromise is to buy and transplant one cucumber plant next week and plant the rest from seeds next week. Remember- all of these\\xa0...',\n",
       " 'The Better Plants program works with leading U.S. manufacturers and wastewater treatment agencies to set ambitious energy, water, waste, and carbon\\xa0...']"
      ]
     },
     "execution_count": 71,
     "metadata": {},
     "output_type": "execute_result"
    }
   ],
   "source": [
    "descriptions"
   ]
  },
  {
   "cell_type": "code",
   "execution_count": 68,
   "metadata": {},
   "outputs": [],
   "source": [
    "val = [links, titles, descriptions]"
   ]
  },
  {
   "cell_type": "code",
   "execution_count": 69,
   "metadata": {},
   "outputs": [
    {
     "data": {
      "text/plain": [
       "[['/url?q=https://www.thesill.com/collections/all-plants&sa=U&ved=2ahUKEwjF3s7Zz-z3AhUUH80KHeuhC2AQFnoECAkQAg&usg=AOvVaw3l8S-oJDAvEJ9fhPD-Dcp-',\n",
       "  '/url?q=https://www.plants.com/&sa=U&ved=2ahUKEwjF3s7Zz-z3AhUUH80KHeuhC2AQFnoECGAQAg&usg=AOvVaw38GA6_wnlZuk5sNpt-F2Aj',\n",
       "  '/url?q=https://www.homedepot.com/b/Outdoors-Garden-Center-Indoor-Plants/N-5yc1vZc8rn&sa=U&ved=2ahUKEwjF3s7Zz-z3AhUUH80KHeuhC2AQFnoECGMQAg&usg=AOvVaw2KPxA8xJTQOmj7LTU6rUf0',\n",
       "  '/url?q=https://en.wikipedia.org/wiki/Plant&sa=U&ved=2ahUKEwjF3s7Zz-z3AhUUH80KHeuhC2AQFnoECGEQAg&usg=AOvVaw3f12alsMX--G-dGbqqVZCY',\n",
       "  '/url?q=https://www.ikea.com/us/en/cat/plants-10779/&sa=U&ved=2ahUKEwjF3s7Zz-z3AhUUH80KHeuhC2AQFnoECCAQAg&usg=AOvVaw03ops2i1fgYk5Tn2qb7fpA',\n",
       "  '/url?q=https://www.goodhousekeeping.com/home/gardening/advice/g1285/hard-to-kill-plants/&sa=U&ved=2ahUKEwjF3s7Zz-z3AhUUH80KHeuhC2AQtwJ6BAheEAI&usg=AOvVaw2IrA_DqpzsQ0npVlDlBixn',\n",
       "  '/url?q=https://nymag.com/strategist/article/best-plants-amazon.html&sa=U&ved=2ahUKEwjF3s7Zz-z3AhUUH80KHeuhC2AQFnoECF0QAg&usg=AOvVaw00_gEKzyTlZx5r-zvsLjQ3',\n",
       "  '/url?q=https://www.forbes.com/sites/forbes-personal-shopper/2022/02/27/best-indoor-plants/&sa=U&ved=2ahUKEwjF3s7Zz-z3AhUUH80KHeuhC2AQFnoECGIQAg&usg=AOvVaw1Q9-OqHee_nCU7wDU3zjv9',\n",
       "  '/url?q=https://www.1800flowers.com/plants&sa=U&ved=2ahUKEwjF3s7Zz-z3AhUUH80KHeuhC2AQFnoECFsQAg&usg=AOvVaw1LbcaOs6B0ssrRQ9ocG-Z7',\n",
       "  '/url?q=https://plants.usda.gov/&sa=U&ved=2ahUKEwjF3s7Zz-z3AhUUH80KHeuhC2AQFnoECFoQAg&usg=AOvVaw25GZXRpjcq5_G5uXVToxZv',\n",
       "  '/url?q=https://bloomscape.com/&sa=U&ved=2ahUKEwjF3s7Zz-z3AhUUH80KHeuhC2AQFnoECFkQAg&usg=AOvVaw1seVn8mlGwPTZdQDOg7UUl',\n",
       "  '/url?q=https://urbanstems.com/plants&sa=U&ved=2ahUKEwjF3s7Zz-z3AhUUH80KHeuhC2AQFnoECCcQAg&usg=AOvVaw3u8MMS4Yq_LooX9A2wEyap',\n",
       "  '/url?q=https://www.lowes.com/pl/House-plants-Plants-bulbs-seeds-Plants-planters-Lawn-garden/4294392549&sa=U&ved=2ahUKEwjF3s7Zz-z3AhUUH80KHeuhC2AQFnoECFgQAg&usg=AOvVaw30panCm5rBgJg_6BQR4Jx9',\n",
       "  '/url?q=https://www.lowes.com/pl/Plants-bulbs-seeds-Plants-planters-Lawn-garden/4294612566&sa=U&ved=2ahUKEwjF3s7Zz-z3AhUUH80KHeuhC2AQFnoECF8QAg&usg=AOvVaw3GcGzreh9Vc50XaIEhuEkd',\n",
       "  '/url?q=https://www.amazon.com/plants/s%3Fk%3Dplants&sa=U&ved=2ahUKEwjF3s7Zz-z3AhUUH80KHeuhC2AQFnoECFUQAg&usg=AOvVaw2EsCE6J7DO9e0EM3c3EYnG',\n",
       "  '/url?q=https://www.womenshealthmag.com/life/g26610281/best-indoor-plants/&sa=U&ved=2ahUKEwjF3s7Zz-z3AhUUH80KHeuhC2AQFnoECFQQAg&usg=AOvVaw0mwR2nFt1gyuwwHDV7RiDI',\n",
       "  '/url?q=https://www.livelyroot.com/collections/all-plants&sa=U&ved=2ahUKEwjF3s7Zz-z3AhUUH80KHeuhC2AQFnoECFIQAg&usg=AOvVaw2rpgu4oQTvj4aA2_NiyPI7',\n",
       "  '/url?q=https://www.mdpi.com/journal/plants&sa=U&ved=2ahUKEwjF3s7Zz-z3AhUUH80KHeuhC2AQFnoECFMQAg&usg=AOvVaw2UzgEgdnKPsZHkjlV4fYFc',\n",
       "  '/url?q=https://www.proflowers.com/house-plants-vap&sa=U&ved=2ahUKEwjF3s7Zz-z3AhUUH80KHeuhC2AQFnoECFEQAg&usg=AOvVaw0V69yLhKZ2li5IzB6N0Uek',\n",
       "  '/url?q=https://www.costco.com/live-plants.html&sa=U&ved=2ahUKEwjF3s7Zz-z3AhUUH80KHeuhC2AQFnoECFwQAg&usg=AOvVaw3z571OQdNFHuopocUH2Zum',\n",
       "  '/url?q=https://plantsofconcern.org/&sa=U&ved=2ahUKEwjF3s7Zz-z3AhUUH80KHeuhC2AQFnoECE8QAg&usg=AOvVaw2KKHV2lD9LWveXaAK6CfrN',\n",
       "  '/url?q=https://www.architecturaldigest.com/story/decorating-with-house-plants&sa=U&ved=2ahUKEwjF3s7Zz-z3AhUUH80KHeuhC2AQFnoECE4QAg&usg=AOvVaw1gvBLOpVYefOGKPsKcnMlP',\n",
       "  '/url?q=https://bonnieplants.com/&sa=U&ved=2ahUKEwjF3s7Zz-z3AhUUH80KHeuhC2AQFnoECE0QAg&usg=AOvVaw1fx_BnPEEzX1GrM1-0ZBkj',\n",
       "  '/url?q=https://www.nytimes.com/2018/11/08/style/08SILL.html&sa=U&ved=2ahUKEwjF3s7Zz-z3AhUUH80KHeuhC2AQFnoECEwQAg&usg=AOvVaw0ObuUuNcT-FB_BYx8FiWYs',\n",
       "  '/url?q=https://www.britannica.com/plant/plant&sa=U&ved=2ahUKEwjF3s7Zz-z3AhUUH80KHeuhC2AQFnoECEsQAg&usg=AOvVaw1OM9lxHMsK-zmYMkndMEz7',\n",
       "  '/url?q=https://www.greatgardenplants.com/&sa=U&ved=2ahUKEwjF3s7Zz-z3AhUUH80KHeuhC2AQFnoECEoQAg&usg=AOvVaw3q6EUticjVU-Aik-jSPO6j',\n",
       "  '/url?q=https://news.ufl.edu/2022/05/lunar-plants/&sa=U&ved=2ahUKEwjF3s7Zz-z3AhUUH80KHeuhC2AQFnoECEkQAg&usg=AOvVaw3-EWUMcdxXRF_qxN73gaCi',\n",
       "  '/url?q=https://www.groovyplantsranch.com/&sa=U&ved=2ahUKEwjF3s7Zz-z3AhUUH80KHeuhC2AQFnoECCkQAg&usg=AOvVaw36Hf0h9mo098SVGKFOHa3s',\n",
       "  '/url?q=https://plants.jstor.org/&sa=U&ved=2ahUKEwjF3s7Zz-z3AhUUH80KHeuhC2AQFnoECFcQAg&usg=AOvVaw15UMQn9uwwOXMx6t8JjRBI',\n",
       "  '/url?q=https://myperfectplants.com/&sa=U&ved=2ahUKEwjF3s7Zz-z3AhUUH80KHeuhC2AQFnoECEUQAg&usg=AOvVaw2Jiw_oy1e9_L3oZcsKYB-J',\n",
       "  '/url?q=https://www.nasa.gov/feature/biological-physical/scientists-grow-plants-in-soil-from-the-moon&sa=U&ved=2ahUKEwjF3s7Zz-z3AhUUH80KHeuhC2AQFnoECEYQAg&usg=AOvVaw02c1yJ0ZGp8U_BDLdHyW_1',\n",
       "  '/url?q=https://ellisonchair.tamu.edu/health-and-well-being-benefits-of-plants/&sa=U&ved=2ahUKEwjF3s7Zz-z3AhUUH80KHeuhC2AQFnoECFYQAg&usg=AOvVaw3VYqMskRaJbjywwnhixcLV',\n",
       "  '/url?q=https://www.nature.com/articles/s42003-022-03334-8&sa=U&ved=2ahUKEwjF3s7Zz-z3AhUUH80KHeuhC2AQFnoECEMQAg&usg=AOvVaw3nIXUCYA_A8CGTs_B9Z_wC',\n",
       "  '/url?q=https://www.livescience.com/carnivorous-penis-pitcher-plant-picked&sa=U&ved=2ahUKEwjF3s7Zz-z3AhUUH80KHeuhC2AQFnoECEIQAg&usg=AOvVaw2i7CSbddXZ8jXHAy0fwHto',\n",
       "  '/url?q=https://www.monrovia.com/&sa=U&ved=2ahUKEwjF3s7Zz-z3AhUUH80KHeuhC2AQFnoECEEQAg&usg=AOvVaw0OvF_W-MCO1WDmczzjbLmX',\n",
       "  '/url?q=https://xeraplants.com/&sa=U&ved=2ahUKEwjF3s7Zz-z3AhUUH80KHeuhC2AQFnoECEAQAg&usg=AOvVaw2Oa9ZlLlxsxv3jZXEXljR8',\n",
       "  '/url?q=https://www.aspca.org/pet-care/animal-poison-control/toxic-and-non-toxic-plants&sa=U&ved=2ahUKEwjF3s7Zz-z3AhUUH80KHeuhC2AQFnoECD8QAg&usg=AOvVaw2GR_NrxrbGaK_k3nDasbdR',\n",
       "  '/url?q=https://www.npr.org/2022/05/14/1098753238/scientists-grow-plants-soil-moon-nasa-university-of-florida&sa=U&ved=2ahUKEwjF3s7Zz-z3AhUUH80KHeuhC2AQFnoECD4QAg&usg=AOvVaw0H6zs6r_SYjrzDT4gejVu-',\n",
       "  '/url?q=https://www.theguardian.com/environment/plants&sa=U&ved=2ahUKEwjF3s7Zz-z3AhUUH80KHeuhC2AQFnoECDwQAg&usg=AOvVaw2p8N0XoMtKGbVxsHPk5Jmi',\n",
       "  '/url?q=https://artsandculture.google.com/entity/plant/m05s2s%3FcategoryId%3Dother&sa=U&ved=2ahUKEwjF3s7Zz-z3AhUUH80KHeuhC2AQFnoECD0QAg&usg=AOvVaw0LsmjgjC7RNTmCJbzQSkCT',\n",
       "  '/url?q=https://www.thespruce.com/ways-to-decorate-with-plants-4049334&sa=U&ved=2ahUKEwjF3s7Zz-z3AhUUH80KHeuhC2AQFnoECDsQAg&usg=AOvVaw2unwWBbj4K8Tl_pxZeSiyg',\n",
       "  '/url?q=https://xerces.org/pollinator-conservation/pollinator-friendly-plant-lists&sa=U&ved=2ahUKEwjF3s7Zz-z3AhUUH80KHeuhC2AQFnoECDoQAg&usg=AOvVaw3o2ZWU7D3b5pviboFLIWnx',\n",
       "  '/url?q=https://www.nwf.org/nativeplantfinder/plants&sa=U&ved=2ahUKEwjF3s7Zz-z3AhUUH80KHeuhC2AQFnoECDkQAg&usg=AOvVaw27AHjt8hBMr8ttxZ01mKp-',\n",
       "  '/url?q=https://identify.plantnet.org/&sa=U&ved=2ahUKEwjF3s7Zz-z3AhUUH80KHeuhC2AQFnoECFAQAg&usg=AOvVaw2ARLzZUe0l8kupz_4aAJly',\n",
       "  '/url?q=https://www.indefenseofplants.com/podcast&sa=U&ved=2ahUKEwjF3s7Zz-z3AhUUH80KHeuhC2AQFnoECDUQAg&usg=AOvVaw1SjHlq9CpD6UHJWO43gOAX',\n",
       "  '/url?q=https://www.latimes.com/topic/plants&sa=U&ved=2ahUKEwjF3s7Zz-z3AhUUH80KHeuhC2AQFnoECDQQAg&usg=AOvVaw1EqphAW6R4FflbIZN8jCcZ',\n",
       "  '/url?q=https://www.dkfindout.com/us/animals-and-nature/plants/&sa=U&ved=2ahUKEwjF3s7Zz-z3AhUUH80KHeuhC2AQFnoECDcQAg&usg=AOvVaw2-he5MRLF9gOHPQbFfjAiJ',\n",
       "  '/url?q=https://www.bbc.com/news/science-environment-61434295&sa=U&ved=2ahUKEwjF3s7Zz-z3AhUUH80KHeuhC2AQFnoECDYQAg&usg=AOvVaw1Yif6huzRDDnX1C8qxzhUS',\n",
       "  '/url?q=https://plantsbymail.com/&sa=U&ved=2ahUKEwjF3s7Zz-z3AhUUH80KHeuhC2AQFnoECDMQAg&usg=AOvVaw3Vv9syr5gMbbR2QhrnWJpe',\n",
       "  '/url?q=https://uwpress.wisc.edu/journals/journals/npj.html&sa=U&ved=2ahUKEwjF3s7Zz-z3AhUUH80KHeuhC2AQFnoECDIQAg&usg=AOvVaw2ZNPTUQNt66A1AN9XBn30y',\n",
       "  '/url?q=https://ucmp.berkeley.edu/plants/plantae.html&sa=U&ved=2ahUKEwjF3s7Zz-z3AhUUH80KHeuhC2AQFnoECDEQAg&usg=AOvVaw3J7hMdtYR3M0YaaL3B_kDo',\n",
       "  '/url?q=https://www.amwua.org/plants&sa=U&ved=2ahUKEwjF3s7Zz-z3AhUUH80KHeuhC2AQFnoECDAQAg&usg=AOvVaw2jTjBVjE6HoN5aL6geI4rT',\n",
       "  '/url?q=https://www.texastribune.org/2022/05/17/texas-power-plant-failure-repairs-ercot/&sa=U&ved=2ahUKEwjF3s7Zz-z3AhUUH80KHeuhC2AQFnoECC4QAg&usg=AOvVaw3LBzJlMQi6JKF0a9J8lCiG',\n",
       "  '/url?q=https://www.reddit.com/r/plants/&sa=U&ved=2ahUKEwjF3s7Zz-z3AhUUH80KHeuhC2AQFnoECC8QAg&usg=AOvVaw0TeixOQot712tKFfz3824w',\n",
       "  '/url?q=https://plantsforallseasons.com/&sa=U&ved=2ahUKEwjF3s7Zz-z3AhUUH80KHeuhC2AQFnoECC0QAg&usg=AOvVaw2IXbvU1dwANCWm33BUGTPg',\n",
       "  '/url?q=https://tinybop.com/apps/plants&sa=U&ved=2ahUKEwjF3s7Zz-z3AhUUH80KHeuhC2AQtwJ6BAgsEAI&usg=AOvVaw3va9U0XctQe2-rojn7nmvP',\n",
       "  '/url?q=https://www.biologicaldiversity.org/species/plants/&sa=U&ved=2ahUKEwjF3s7Zz-z3AhUUH80KHeuhC2AQFnoECCsQAg&usg=AOvVaw0H1_D86ARBGcWFXiYUVmss',\n",
       "  '/url?q=https://www.cnbc.com/2022/05/18/keeping-illinois-nuclear-plants-open-saving-some-customers-237-a-year.html&sa=U&ved=2ahUKEwjF3s7Zz-z3AhUUH80KHeuhC2AQFnoECCoQAg&usg=AOvVaw3hIkB4NVy2lTxi45DUTstm',\n",
       "  '/url?q=http://npj.uwpress.org/&sa=U&ved=2ahUKEwjF3s7Zz-z3AhUUH80KHeuhC2AQFnoECCgQAg&usg=AOvVaw3cNQhs8Yk0wDv4NciY3uX7',\n",
       "  '/url?q=https://www.ecosia.org/%3Fc%3Den&sa=U&ved=2ahUKEwjF3s7Zz-z3AhUUH80KHeuhC2AQFnoECEcQAg&usg=AOvVaw2zSx03Umh4fQj7mgEIF2v-',\n",
       "  '/url?q=https://www.gardenia.net/plants/plant-types&sa=U&ved=2ahUKEwjF3s7Zz-z3AhUUH80KHeuhC2AQFnoECEgQAg&usg=AOvVaw3Nwh3IKRIYUwMJSb9LN1NS',\n",
       "  '/url?q=https://www.9news.com/article/life/home-garden/save-tender-plants-from-late-freeze/73-49150dab-83cb-4e7f-abb8-80592b63bf82&sa=U&ved=2ahUKEwjF3s7Zz-z3AhUUH80KHeuhC2AQFnoECCYQAg&usg=AOvVaw2EjIOwwWTVaWq36B0p5Rye',\n",
       "  '/url?q=http://www.biology4kids.com/files/plants_main.html&sa=U&ved=2ahUKEwjF3s7Zz-z3AhUUH80KHeuhC2AQFnoECCUQAg&usg=AOvVaw37pUMFFo9F8A2KMmZ1sDhV',\n",
       "  '/url?q=https://bouqs.com/plants/all&sa=U&ved=2ahUKEwjF3s7Zz-z3AhUUH80KHeuhC2AQFnoECCMQAg&usg=AOvVaw1Fp02AHi3cBCHEA3cI11a7',\n",
       "  '/url?q=https://nph.onlinelibrary.wiley.com/journal/25722611&sa=U&ved=2ahUKEwjF3s7Zz-z3AhUUH80KHeuhC2AQFnoECCQQAg&usg=AOvVaw1nS9LpRN9Bg3jEy3MPFJzC',\n",
       "  '/url?q=https://www.nbcnews.com/think/opinion/covid-lockdowns-turned-buying-plants-next-big-pandemic-trend-good-ncna1256223&sa=U&ved=2ahUKEwjF3s7Zz-z3AhUUH80KHeuhC2AQFnoECCIQAg&usg=AOvVaw3HFH4cwM_GN79VWBBu9ruB',\n",
       "  '/url?q=https://www.healthline.com/health/healthy-home-guide/benefits-of-indoor-plants&sa=U&ved=2ahUKEwjF3s7Zz-z3AhUUH80KHeuhC2AQFnoECCEQAg&usg=AOvVaw11gDiH3QR3JN35bf_T7QtD',\n",
       "  '/url?q=https://www.housebeautiful.com/lifestyle/gardening/g4222/weird-indoor-plants/&sa=U&ved=2ahUKEwjF3s7Zz-z3AhUUH80KHeuhC2AQtwJ6BAhEEAI&usg=AOvVaw08_l0wTuDP6JZUOnAeeqKu',\n",
       "  '/url?q=https://phys.org/tags/plants/&sa=U&ved=2ahUKEwjF3s7Zz-z3AhUUH80KHeuhC2AQFnoECB4QAg&usg=AOvVaw3BwlmOmXqnbzv4q1BIPC6a',\n",
       "  '/url?q=https://www.wildflower.org/plants-main&sa=U&ved=2ahUKEwjF3s7Zz-z3AhUUH80KHeuhC2AQFnoECB8QAg&usg=AOvVaw1uyaPmvua1uA6g_D8haEPD',\n",
       "  '/url?q=https://www.cnet.com/science/space/scientists-grow-plants-in-moon-soil-for-first-time-everything-sprouted/&sa=U&ved=2ahUKEwjF3s7Zz-z3AhUUH80KHeuhC2AQFnoECBwQAg&usg=AOvVaw12TNFojutxnqfqEiGAHF83',\n",
       "  '/url?q=https://plantsnouveau.com/&sa=U&ved=2ahUKEwjF3s7Zz-z3AhUUH80KHeuhC2AQFnoECB0QAg&usg=AOvVaw0vp1LrRcJopdh4_9Fi4geE',\n",
       "  '/url?q=https://www.patchplants.com/gb/en/w/product-type/plants/environment/indoor/&sa=U&ved=2ahUKEwjF3s7Zz-z3AhUUH80KHeuhC2AQFnoECBsQAg&usg=AOvVaw3AIk4uWhd5_KYcvAV02sBa',\n",
       "  '/url?q=https://www.denverpost.com/2022/05/19/denver-snowstorm-plant-garden-care/&sa=U&ved=2ahUKEwjF3s7Zz-z3AhUUH80KHeuhC2AQFnoECBgQAg&usg=AOvVaw0o-N0SOGbt1D2fcDmyZAUr',\n",
       "  '/url?q=https://www.cpr.org/2022/05/18/how-to-protect-your-vegetables-and-flowers-from-the-freezing-temperatures-coming-this-weekend/&sa=U&ved=2ahUKEwjF3s7Zz-z3AhUUH80KHeuhC2AQFnoECBkQAg&usg=AOvVaw0NHWN-CakgzhTK7iYsBNHM',\n",
       "  '/url?q=https://www.oregonlive.com/hg/2022/05/where-to-find-and-how-to-grow-caudiciforms-living-sculpture-of-plants-in-oregon.html&sa=U&ved=2ahUKEwjF3s7Zz-z3AhUUH80KHeuhC2AQFnoECBcQAg&usg=AOvVaw1KxshAlVGV0EoRYDZrQJqk',\n",
       "  '/url?q=https://www.webmd.com/a-to-z-guides/ss/slideshow-health-benefits-houseplants&sa=U&ved=2ahUKEwjF3s7Zz-z3AhUUH80KHeuhC2AQFnoECBYQAg&usg=AOvVaw20abTtb3LV8kgieQK1UM4U',\n",
       "  '/url?q=https://www.plantsmap.com/&sa=U&ved=2ahUKEwjF3s7Zz-z3AhUUH80KHeuhC2AQFnoECBUQAg&usg=AOvVaw2bx7ADZjf1mHsiaGqev4Hr',\n",
       "  '/url?q=https://www.sciencenews.org/topic/plants&sa=U&ved=2ahUKEwjF3s7Zz-z3AhUUH80KHeuhC2AQFnoECBQQAg&usg=AOvVaw2mwGuf4fwIy0MXv0mfpQWG',\n",
       "  '/url?q=https://florida.plantatlas.usf.edu/&sa=U&ved=2ahUKEwjF3s7Zz-z3AhUUH80KHeuhC2AQFnoECBMQAg&usg=AOvVaw0LWJ0qSi0HTjsTjQn9lRko',\n",
       "  '/url?q=https://www.provenwinners.com/&sa=U&ved=2ahUKEwjF3s7Zz-z3AhUUH80KHeuhC2AQFnoECBIQAg&usg=AOvVaw1XuR4i09tnik82OgNerTPh',\n",
       "  '/url?q=https://www.monticello.org/house-gardens/center-for-historic-plants/&sa=U&ved=2ahUKEwjF3s7Zz-z3AhUUH80KHeuhC2AQFnoECBEQAg&usg=AOvVaw1vdNLopp1q3GpQC4AkU04Z',\n",
       "  '/url?q=https://www.invasiveplantatlas.org/&sa=U&ved=2ahUKEwjF3s7Zz-z3AhUUH80KHeuhC2AQFnoECBAQAg&usg=AOvVaw0XWeUs-vMwO88Wxv5nu7gp',\n",
       "  '/url?q=https://hackaday.com/2022/05/19/water-your-plants-just-four-times-per-year/&sa=U&ved=2ahUKEwjF3s7Zz-z3AhUUH80KHeuhC2AQFnoECA8QAg&usg=AOvVaw0vSqMwYcPxM8N-AQTv5ADH',\n",
       "  '/url?q=https://www.qvc.com/garden-and-outdoor-living/live-plants/_/N-xnqypv/c.html&sa=U&ved=2ahUKEwjF3s7Zz-z3AhUUH80KHeuhC2AQFnoECA4QAg&usg=AOvVaw0D3qNTUD3ByWjN7cU3-1de',\n",
       "  '/url?q=https://hirts.com/plants/house-plants/&sa=U&ved=2ahUKEwjF3s7Zz-z3AhUUH80KHeuhC2AQFnoECA0QAg&usg=AOvVaw33_GVY2hUZ-LiS6Y1jEWiJ',\n",
       "  '/url?q=https://southernlivingplants.com/&sa=U&ved=2ahUKEwjF3s7Zz-z3AhUUH80KHeuhC2AQFnoECAsQAg&usg=AOvVaw32oST67_kheUnqi03Wdycc',\n",
       "  '/url?q=https://www.gardenersworld.com/plants/&sa=U&ved=2ahUKEwjF3s7Zz-z3AhUUH80KHeuhC2AQFnoECAwQAg&usg=AOvVaw0_YGKLSVSVxJ7CpUEELzG-',\n",
       "  '/url?q=https://plants.ensembl.org/index.html&sa=U&ved=2ahUKEwjF3s7Zz-z3AhUUH80KHeuhC2AQFnoECAcQAg&usg=AOvVaw20d7KMl-9FLqbMEQZrdS7A',\n",
       "  '/url?q=https://www.etsy.com/market/plants&sa=U&ved=2ahUKEwjF3s7Zz-z3AhUUH80KHeuhC2AQFnoECAgQAg&usg=AOvVaw2bcefTmFlz3R3p31Sr5U80',\n",
       "  '/url?q=https://www.cnn.com/2022/05/12/world/plants-lunar-soil-scn/index.html&sa=U&ved=2ahUKEwjF3s7Zz-z3AhUUH80KHeuhC2AQFnoECAoQAg&usg=AOvVaw1k_UyDAGPah7MoqLzTkPgS',\n",
       "  '/url?q=https://saveplants.org/&sa=U&ved=2ahUKEwjF3s7Zz-z3AhUUH80KHeuhC2AQFnoECDgQAg&usg=AOvVaw0k3tHosah__uwH98VjbOWv',\n",
       "  '/url?q=https://www.nativeplanttrust.org/&sa=U&ved=2ahUKEwjF3s7Zz-z3AhUUH80KHeuhC2AQFnoECAYQAg&usg=AOvVaw0cS1cx2AE0sSCiIlNcey-b',\n",
       "  '/url?q=https://www.fromyouflowers.com/plants/plant-delivery&sa=U&ved=2ahUKEwjF3s7Zz-z3AhUUH80KHeuhC2AQFnoECAMQAg&usg=AOvVaw184sX4tVbfMDQGVdEZRZhf',\n",
       "  '/url?q=https://plantselect.org/&sa=U&ved=2ahUKEwjF3s7Zz-z3AhUUH80KHeuhC2AQFnoECAAQAg&usg=AOvVaw2jh_hEDcLWHrU8GbyGE8lY',\n",
       "  '/url?q=https://nypost.com/2022/05/18/save-up-to-30-on-plants-during-the-sills-10th-birthday-sale/&sa=U&ved=2ahUKEwjF3s7Zz-z3AhUUH80KHeuhC2AQFnoECAIQAg&usg=AOvVaw1yAtB6alVegDKoq_1pc5IZ',\n",
       "  '/url?q=https://www.mlive.com/weather/2022/05/garden-talk-which-veggie-plants-are-better-to-start-from-seed.html&sa=U&ved=2ahUKEwjF3s7Zz-z3AhUUH80KHeuhC2AQFnoECAEQAg&usg=AOvVaw1hopKuwIgyEsywlKg98NJT',\n",
       "  '/url?q=https://betterbuildingssolutioncenter.energy.gov/better-plants&sa=U&ved=2ahUKEwjF3s7Zz-z3AhUUH80KHeuhC2AQFnoECAQQAg&usg=AOvVaw3ofLFuPCgNlLWK4BNpvJUM'],\n",
       " ['Shop Houseplants | Indoor Plants, Delivered To You | The Sill',\n",
       "  'Plants Delivered to Your Door | Best Plant Delivery 2022 | Plants.com',\n",
       "  'Indoor Plants - The Home Depot',\n",
       "  'Plant - Wikipedia',\n",
       "  'Indoor plants - House plants - IKEA',\n",
       "  '30 Gorgeous Indoor Plants That Are Almost Impossible to Kill - Good ...',\n",
       "  \"The Best Plants to Buy From Amazon's (Continuously Growing ...\",\n",
       "  'The Best Houseplants For Every Home And Skill Level - Forbes',\n",
       "  'Send Plant Gifts & Potted Trees Online | 1800Flowers',\n",
       "  'USDA Plants Database',\n",
       "  'Bloomscape | Home Ready Plants Delivered to Your Door',\n",
       "  'Shop our Indoor & Potted Plants Collection - UrbanStems',\n",
       "  'House Plants at Lowes.com',\n",
       "  'Plants, Bulbs & Seeds at Lowes.com',\n",
       "  'plants - Amazon.com',\n",
       "  '11 Best Indoor Plants: Easy, Low-Light Houseplants To Decorate',\n",
       "  'Order Live Plants Online | Live Plants for Sale | Lively Root',\n",
       "  'Plants | An Open Access Journal from MDPI',\n",
       "  'Shop Decorative Plants Online for Delivery | Proflowers',\n",
       "  'Plants, Bulbs & Seeds | Costco',\n",
       "  'Plants of Concern',\n",
       "  '13 Best Indoor Plants and How to Care for Them | Architectural Digest',\n",
       "  'Bonnie Plants - Garden Plants for Your Vegetable Garden or Herb ...',\n",
       "  'Meet the Plantfluencers - The New York Times',\n",
       "  'plant | Definition, Evolution, Ecology, & Taxonomy - Encyclopedia ...',\n",
       "  'Great Garden Plants | Quality Plants, Grown and Shipped With Care',\n",
       "  'A first: Scientists grow plants in soil from the moon - UF News',\n",
       "  'Groovy Plants Ranch',\n",
       "  'Global Plants on JSTOR',\n",
       "  'Buy Plants Online: Trees, Shrubs & More | Perfect Plants',\n",
       "  'Scientists Grow Plants in Lunar Soil | NASA',\n",
       "  'Health and well-being benefits of plants - - Ellison Chair in ...',\n",
       "  'Plants grown in Apollo lunar regolith present stress-associated ...',\n",
       "  'Stop picking carnivorous penis plants, Cambodian environmental ...',\n",
       "  'Monrovia | Grow Beautifully',\n",
       "  'Xera Plants: Home Page',\n",
       "  'Toxic and Non-Toxic Plants - ASPCA',\n",
       "  'Scientists successfully grow plants in soil from the moon - NPR',\n",
       "  'Plants | Environment | The Guardian',\n",
       "  'Plant - Google Arts & Culture',\n",
       "  '27 Great Ways To Decorate With Plants - The Spruce',\n",
       "  'Pollinator-Friendly Native Plant Lists | Xerces Society',\n",
       "  'Specify Your Location - Native Plants Finder - National Wildlife ...',\n",
       "  'Pl@ntNet identify',\n",
       "  'In Defense of Plants',\n",
       "  'Plants - Los Angeles Times',\n",
       "  'Plant Facts | All About Plants for Kids - DK Find Out!',\n",
       "  'Moon soil used to grow plants for first time in breakthrough test - BBC',\n",
       "  'PlantsbyMail.com - Order Plants Online For Your Garden & Landscape',\n",
       "  'Native Plants Journal - University of Wisconsin Press',\n",
       "  'Introduction to the Plantae',\n",
       "  'Plants | AMWUA',\n",
       "  'Texas power plant broke down after ERCOT asked it to delay repairs',\n",
       "  'Plants - Reddit',\n",
       "  'Plants for All Seasons | Since 1973 – Get Your Green On',\n",
       "  'Plants educational app for curious kids by Tinybop',\n",
       "  'Plants - Center for Biological Diversity',\n",
       "  'Keeping Illinois nuclear plants open saving some customers $237 a ...',\n",
       "  'Native Plants Journal',\n",
       "  'Ecosia - the search engine that plants trees',\n",
       "  'Find Plants by Plant Types - Gardenia.net',\n",
       "  'Take action to save tender plants from late freeze - 9News',\n",
       "  'Plants - Biology4Kids.com',\n",
       "  'Plant Delivery | Houseplants Online - The Bouqs Co.',\n",
       "  'PLANTS, PEOPLE, PLANET - Wiley Online Library - New ...',\n",
       "  'Covid lockdowns turned buying plants into the next big pandemic ...',\n",
       "  '7 Science-Backed Benefits of Indoor Plants - Healthline',\n",
       "  'The Cool and Unique Plants to Know About in 2022 - House Beautiful',\n",
       "  'Plants news and latest updates - Phys.org',\n",
       "  'Native Plants of North America - Lady Bird Johnson Wildflower Center',\n",
       "  'Scientists Grow Plants in Moon Soil for First Time - CNET',\n",
       "  'Plants Nouveau',\n",
       "  'Indoor Plants Online | House Plants Delivered | | Patch',\n",
       "  \"How to care for plants and gardens during this weekend's snowstorm\",\n",
       "  'How to protect your vegetables and flowers from the freezing ...',\n",
       "  \"Where to find and how to grow caudiciforms, 'living sculpture' of ...\",\n",
       "  'Health Benefits of Houseplants - WebMD',\n",
       "  'Plants Map • Connecting People With Plants | Plants Map',\n",
       "  'Plants | Science News',\n",
       "  'ISB: Atlas of Florida Plants',\n",
       "  'Proven Winners | The #1 Plant Brand',\n",
       "  'Thomas Jefferson Center for Historic Plants',\n",
       "  'Invasive Plant Atlas of the United States - Database of Plants ...',\n",
       "  'Water Your Plants Just Four Times Per Year | Hackaday',\n",
       "  'Live Plants - QVC.com',\n",
       "  \"House Plants - Page 1 - Hirt's Gardens\",\n",
       "  'Southern Living Plants - Plants Selected For Southern Gardens',\n",
       "  'Choose plants - BBC Gardeners World Magazine',\n",
       "  'Ensembl Plants',\n",
       "  'Plants | Etsy',\n",
       "  'Plants have been grown in lunar soil for the 1st time ever - CNN',\n",
       "  'Center for Plant Conservation - Saving Plants from Extinction',\n",
       "  'Native Plant Trust',\n",
       "  'Plant Delivery | Plant Gifts | Send Plants - FromYouFlowers',\n",
       "  'Plant Select - Smart plants inspired by the Rocky Mountain region',\n",
       "  \"Save up to 30% on plants during The Sill's 10th Birthday sale\",\n",
       "  'Garden Talk: Which veggie plants are better to start from seed',\n",
       "  'Better Plants'],\n",
       " ['Your destination for perfectly potted plants online! We ship nationwide. 30-day return policy, no questions asked.',\n",
       "  'Plants delivered right to your door is fast and easy with Plants.com. Shop the best plant types with a variety of outdoor and indoor plant delivery.',\n",
       "  \"We carry a wide variety of all types of plants, from indoor plants and house plants to succulents and snake plants. You'll find small house plants, large house\\xa0...Potted Plants · Exotic Angel Plants · Indoor Plants That are Easy to... · Low Light\",\n",
       "  'Plants that produce grain, fruit, and vegetables also form basic human foods and have been domesticated for millennia. Plants have many cultural and other uses,\\xa0...Portal · Flowering plant · WikiProject Plants · Plant taxonomyKingdom: Plantae; sensu Copeland, 1956Domain: Eukaryota',\n",
       "  \"Bring a touch of the great outdoors to your home with IKEA's huge collection of house plants and succulents for affordable prices.\",\n",
       "  'The paddle plant is a bold succulent that has big, round leaves with pink tips. These plants favor bright light so you can have it sit right on\\xa0...Duration: 1:48Posted: Mar 7, 2022',\n",
       "  'Jan 12, 2022 · The best indoor plants on Amazon include floor plants like the fiddle-leaf fig, snake plant, bird of paradise, and monstera.',\n",
       "  'Approx. $13 to $85Feb 27, 2022 · ... but not sure where to begin? Here are 20 of the best indoor plants for every environment and skill level, recommended by plant experts.',\n",
       "  'Shop 1800Flowers for a selection of plants that make excellent plant gifts or will beautifully furnish your home or office! Our plant delivery is quick and\\xa0...',\n",
       "  'Plant List of Accepted Nomenclature, Taxonomy, and Symbols. The PLANTS Database provides standardized information about the vascular plants, mosses,\\xa0...',\n",
       "  'Backed by 5 generations of Grow-How™. Get bigger, better, leafier plants delivered from our greenhouse to your home.',\n",
       "  'Send plants from UrbanStems. Explore our indoor and green plants. Plant delivery available nationwide.',\n",
       "  \"Find house plants at Lowe's today. Shop house plants and a variety of lawn & garden products online at Lowes.com.\",\n",
       "  \"Find plants, bulbs & seeds at Lowe's today. Shop plants, bulbs & seeds and a variety of lawn & garden products online at Lowes.com.\",\n",
       "  'Results 1 - 48 of 100000+ · However, snake plants do come in different variations, not to mention the hundreds of brands available in the market. We know that\\xa0...',\n",
       "  'Dec 21, 2021 · Shop the best indoor plants online that are easy to care for and best at purifying the air. Add decor and greenery to your living room,\\xa0...',\n",
       "  'Enjoy a wide variety of plants, from indoor Snake Plants and Money Trees to patio and landscaping favorites. Explore small plants, large house plants and\\xa0...',\n",
       "  'Plants, an international, peer-reviewed Open Access journal.',\n",
       "  \"House plants make an excellent gift, whether for a special occasion or for no reason at all. They're long lasting and easy to care for, and with our wide\\xa0...\",\n",
       "  'Shop Costco.com for live indoor and outdoor plants, including garden plants, fruit trees, orchids, bulb collections, succulents, bonsai trees, & more.',\n",
       "  'Help Save Plants for People and the Planet. Become a rare plant monitor ... Connecting people and plants to support healthy humans and habitats.',\n",
       "  'Jan 3, 2020 · Looking for the best indoor plants that are low maintenance (aka, hard to kill)? Discover the 13 best house plants, including fiddle-leaf\\xa0...',\n",
       "  'Bonnie Plants is a leading provider of plants for your vegetable garden or herb garden. Shop our wide variety of fresh plants or use our expert gardening\\xa0...',\n",
       "  'Nov 8, 2018 · It was plant stand-up — slightly blue patter with quick takes on Linnaeus ... “I like plants, but I kill so many of them,” said Mr. Poma,\\xa0...',\n",
       "  'plant, (kingdom Plantae), any multicellular eukaryotic life-form characterized by (1) photosynthetic nutrition (a characteristic possessed by all plants\\xa0...',\n",
       "  'Let us help you beautify your world! Look to GreatGardenPlants.com for quality perennials, flowering shrubs, and evergreens, grown in our greenhouses and\\xa0...',\n",
       "  '8 days ago · In a new paper published in the journal Communications Biology, University of Florida researchers showed that plants can successfully sprout\\xa0...',\n",
       "  'Apr 13, 2022 · Groovy Plants Ranch, your home for the grooviest plants on earth! We are truly passionate about horticulture, with a strong emphasis on\\xa0...',\n",
       "  \"Global Plants is the world's largest database of digitized plant specimens and a locus for international botany research and collaboration. Begin exploring!\",\n",
       "  'Buy plants online from the grower. Over 300 shrubs, rose bushes, houseplants, & trees for sale. Family owned & operated since 1980. Shop our catalog now!',\n",
       "  '8 days ago · NASA-funded study breaks new ground in plant research.',\n",
       "  'Keeping ornamental plants in the home and in the workplace increases memory retention and concentration. The calming influence of natural environments is\\xa0...',\n",
       "  '8 days ago · The extent to which plants can enhance human life support on other worlds depends on the ability of plants to thrive in extraterrestrial\\xa0...',\n",
       "  '2 days ago · A photo of a Nepenthes pitcher plant. Nepenthes pitcher plants have modified leaves that look phallic. (Image credit: Shutterstock).',\n",
       "  'For nearly a century at Monrovia, we have poured our passion and expertise into each plant we grow. Check out our selection of quality plants, blogs,\\xa0...',\n",
       "  'Climate adapted plants for gardeners in the Pacific Northwest ... Xera Plants is a retail plant nursery and grower based in Portland, Oregon.',\n",
       "  'Items 1 - 15 of 1028 · Find out which plants are poisonous to dogs, cats and horses. Common toxic plants include sago palms, lilies, azaleas and tulips.',\n",
       "  '6 days ago · The research could also have implications for plants growing in harsh conditions on Earth, he added. \"We\\'ll need to use resources found on the\\xa0...',\n",
       "  \"Plants · Houseplant of the week Houseplant of the week: air plant · Cress seeds grown in moon dust raise hopes for lunar crops · Boon for blooms as UK's dry spring\\xa0...\",\n",
       "  'Plants are mainly multicellular organisms, predominantly photosynthetic eukaryotes of the kingdom Plantae. Historically, plants were treated as one of two\\xa0...',\n",
       "  \"Mar 2, 2022 · If you love plants but aren't sure how to display them in your home, keep these 27 styling suggestions in mind. You'll have your greenery\\xa0...\",\n",
       "  \"We've prepared the following lists of recommended native plants that are highly attractive to pollinators such as native bees, honey bees, butterflies,\\xa0...\",\n",
       "  'This website will help you find the best native plants specifically for your area that attract butterflies and moths and the birds that feed on their\\xa0...',\n",
       "  'Pl@ntNet is a tool to help to identify plants with pictures. Identify, explore and share your observations of wild plants.',\n",
       "  'Patrick Griffith of the Montgomery Botanical Center as we discuss the fascinating biogeographic and cultural history of this plant. This episode was produced in\\xa0...',\n",
       "  'Amidst the California drought, have you torn out your lawn and replaced it with drought-tolerant plants? If not, are you considering it? We want to hear\\xa0...',\n",
       "  'From the tiny buttercup to the giant redwood tree, plants come in all colors, shapes, and sizes. But plants are not only rich in color and variety—they are\\xa0...',\n",
       "  '7 days ago · \"Every plant - whether in a lunar sample or in a control - looked the same up until about day six.\" After that, differences emerged. The plants\\xa0...',\n",
       "  'Since 1998, PlantsbyMail has been a trusted source to order plants direct to your door. Choose from our catalog of 200+ varieties of Roses, Azaleas, & More.',\n",
       "  'It includes articles that are useful to and understandable by growers and planters of North American native plants and that contribute significantly to the\\xa0...',\n",
       "  'It is the plants which produce and maintain the terrestrial environment as we know it. Click on the buttons below to find out more about the Plant Kingdom. You\\xa0...',\n",
       "  'Plant Combinations. The desert offers a surprisingly diverse selection of low-water-use landscape plants. Blending this distinctive palette of colors,\\xa0...',\n",
       "  '2 days ago · Climate change and other factors are shortening the window when aging Texas power plants can make repairs to run at full strength in hot\\xa0...',\n",
       "  'r/plants: A place to share pictures and discuss growing, maintaining, and propagating houseplants and outdoor decorative plants.',\n",
       "  \"Mar 24, 2022 · At Plants For All Seasons You'll Find: Perennials; Annuals; Trees & Shrubs; Ground Cover & Grasses; Herbs & Vegetables; Soils & Mulch; Pottery\\xa0...\",\n",
       "  'Explore interactive dioramas of the forest, desert, and grasslands. Play and learn about plant lifecycles, seasons, and weather.Duration: 0:39Posted: Nov 12, 2014',\n",
       "  'Plants are a kingdom of life forms that includes familiar organisms such as trees, herbs, bushes, grasses, vines, ferns and mosses. Through photosynthesis\\xa0...',\n",
       "  '1 day ago · One of the key provisions in the law was a commitment to keep its existing nuclear power fleet online, even if the plants were not profitable.',\n",
       "  'Subscribe now for access to all back content! University of Wisconsin Press COVID-19 Statement. If you are unable to access journal content that\\xa0...',\n",
       "  \"Ecosia uses the ad revenue from your searches to plant trees where they are needed the most. By searching with Ecosia, you're not only reforesting our\\xa0...\",\n",
       "  'Find the perfect flowers and plants for your garden, patio or containers. Look through our extensive list of annuals, perennials, roses, flower bulbs,\\xa0...',\n",
       "  \"22 hours ago · — Just when you think it's safe to plant your gardens on the Front Range, Colorado weather says think again. Denver and Colorado are in for a\\xa0...\",\n",
       "  'Biology4Kids.com! This tutorial introduces plant basics. Other sections include animal systems, cells, vertebrates, and invertebrates.',\n",
       "  \"Live Plant Delivery. While it's hard to beat the beauty and simplicity of flowers, plants also make amazing gifts. Some plants can bring joy to a person for\\xa0...\",\n",
       "  'Plants, People, Planet is a cross-disciplinary Open Access journal, ... and plant species (dogwood vs. willow) affected P plant uptake and leaching.',\n",
       "  'Jan 30, 2021 · Image: Illustration of two people in masks cooing over a potted plant in a stroller. Plants give us purpose, however small. They need nurture\\xa0...',\n",
       "  \"Sep 18, 2020 · Indoor gardening is still enjoying a surge in popularity, fed by Instagram's greenery-inspired interior designs, plant-based podcasts,\\xa0...\",\n",
       "  \"$15.001 Red Veined Nerve Plant. Amazon. Hirts: House Plants · 2 Living Stone Plant. Amazon. Hirt's Gardens · 3 String of Dolphins Succulent. Amazon · 4\\xa0...Duration: 2:24Posted: Apr 25, 2022\",\n",
       "  'Plants are living organisms belonging to the kingdom Plantae. They include familiar organisms such as trees, herbs, bushes, grasses, vines, ferns, mosses,\\xa0...',\n",
       "  \"Find profiles and images of native plants in North America's largest native plant database, in addition to native plant suppliers around the country.\",\n",
       "  '3 days ago · A plant grown during the experiment is transferred to a vial for analysis. UF/IFAS/Tyler Jones. When NASA launches Artemis astronauts back to\\xa0...',\n",
       "  'We work with plant breeders around the world to bring the best, most reliable garden plants to growers and gardeners.',\n",
       "  \"View our full range of indoor & outdoor plants, pots, accessories & care guides. We're making London greener, and we want you to join us.\",\n",
       "  '6 hours ago · The plant store manager also recommended that people stop watering their plants soon. Rain is expected in Denver, so gardeners want to be\\xa0...',\n",
       "  '1 day ago · A scene from the Denver Botanic Gardens&#039; annual plant sale, May 7 ... “If you have any plans to plant right now, pull your plants in\\xa0...',\n",
       "  \"7 hours ago · They're also not an outdoor plant, except during the summer, in the Northwest. These are plants, many of them endangered, from deserts in places\\xa0...\",\n",
       "  'Nov 4, 2021 · So liven up your room with blooms, like a lipstick plant, or a fresh bouquet and see if your outlook improves. Spider Plants for Moisture. 3/12.',\n",
       "  'Plants Map hosts botanical collections with tools to catalog map, tag and share information about plants.',\n",
       "  '... 500-year-old “rule of trees” offers a powerful, new way to describe the structure of almost any leafy tree. By James R. Riordon April 27, 2022. Plants\\xa0...',\n",
       "  'About the Plant Atlas. Florida has over 4,700 species of native or naturalized plants in Florida, including over 4,300 species of vascular plants and over\\xa0...',\n",
       "  'Our plants have been proven in trials conducted in numerous sites worldwide to be: Easy to grow and care for; Covered with blooms; Bright and colorful\\xa0...',\n",
       "  'The Thomas Jefferson Center for Historic Plants, established at Monticello in 1986, collects, preserves, and distributes historic and native plant varieties\\xa0...',\n",
       "  'Invasive alien plants threaten native species and habitats by competing for critical ... Invasive plant species displace and alter native plant communities,\\xa0...',\n",
       "  '12 hours ago · The 3D-printed pot can easily be scaled up or down to suit the size of the plant, and contains a water reservoir that holds about 0.7 L of water\\xa0...',\n",
       "  \"Click here to find a great selection of Live Plants Garden & Outdoor Living at QVC.com. Don't Just Shop. Q.\",\n",
       "  'House Plants. Refine. Sort By: ... Serendipity Elephant Ears Plant - Alocasia - 4\" Pot ... Shangri-La Philodendron - Easy to Grow House Plant - 4\" Pot.',\n",
       "  'Classic Southern plants selected for Southern gardens. See our plant collection, get helpful tips on gardening and find style advice for your landscape.',\n",
       "  'Choose plants. Browse our Plant Finder, packed with thousands of gorgeous plants. Malva moschata flowers. Getty Images. Grow plants\\xa0...',\n",
       "  'Ensembl Plants is a genome-centric portal for plant species of scientific interest.',\n",
       "  'Check out our plants selection for the very best in unique or custom, handmade pieces from our house plants shops.',\n",
       "  '8 days ago · Scientists have grown plants in lunar soil using samples collected during the Apollo missions to the moon. This is the first time plants\\xa0...',\n",
       "  'The Center for Plant Conservation is a network of world class botanical institutions working to save plants from extinction by advancing plant conservation\\xa0...',\n",
       "  \"As the U.S.' first plant conservation organization, we conserve and promote New England's native plants to ensure healthy biologically diverse landscapes.\",\n",
       "  'Plant delivery is the perfect gift! A variety of plants are available including flowering plants and potted plants for fast delivery.',\n",
       "  'Plant Select is a western plant introduction program. Explore our unique, smart and sustainable plants inspired by the Rocky Mountain region.',\n",
       "  \"1 day ago · Whether you're looking for a low-light loving snake plant, a chic fiddle leaf fig, a flouncy monstera — and plenty of colorful planters to put\\xa0...\",\n",
       "  '1 day ago · A good compromise is to buy and transplant one cucumber plant next week and plant the rest from seeds next week. Remember- all of these\\xa0...',\n",
       "  'The Better Plants program works with leading U.S. manufacturers and wastewater treatment agencies to set ambitious energy, water, waste, and carbon\\xa0...']]"
      ]
     },
     "execution_count": 69,
     "metadata": {},
     "output_type": "execute_result"
    }
   ],
   "source": [
    "val"
   ]
  },
  {
   "cell_type": "code",
   "execution_count": 66,
   "metadata": {},
   "outputs": [
    {
     "name": "stdout",
     "output_type": "stream",
     "text": [
      "Connected to MySQL Server version  8.0.28\n",
      "You're connected to database:  ('girrafe',)\n",
      "MySQL connection is closed\n"
     ]
    }
   ],
   "source": [
    "#Adding values to the database\n",
    "try:\n",
    "    connection = mysql.connector.connect(host='localhost',\n",
    "                                         port=3306,\n",
    "                                         database='girrafe',\n",
    "                                         user='newuser',\n",
    "                                         password='Potato202@',\n",
    "                                         auth_plugin='mysql_native_password')\n",
    "    if connection.is_connected():\n",
    "        db_Info = connection.get_server_info()\n",
    "        print(\"Connected to MySQL Server version \", db_Info)\n",
    "        cursor = connection.cursor()\n",
    "        cursor.execute(\"select database();\")\n",
    "        record = cursor.fetchone()\n",
    "        print(\"You're connected to database: \", record)\n",
    "        sql = \"INSERT INTO URLS_TABLE(id, link, titles, descriptions) VALUES (%s, %s,%s,%s)\"\n",
    "        for i in range(len(links),len(titles), len(descriptions)):\n",
    "            cursor.execute(sql, (i,len(links[i]),titles[i],descriptions[i]))\n",
    "            #cursor.commit() \n",
    "            connection.commit()\n",
    "            \n",
    "\n",
    "except Error as e:\n",
    "    print(\"Error while connecting to MySQL\", e)\n",
    "    \n",
    "finally:\n",
    "    if connection.is_connected():\n",
    "        cursor.close()\n",
    "        connection.close()\n",
    "        print(\"MySQL connection is closed\")"
   ]
  },
  {
   "cell_type": "code",
   "execution_count": 67,
   "metadata": {},
   "outputs": [
    {
     "ename": "ProgrammingError",
     "evalue": "Failed processing format-parameters; Python 'tag' cannot be converted to a MySQL type",
     "output_type": "error",
     "traceback": [
      "\u001b[1;31m---------------------------------------------------------------------------\u001b[0m",
      "\u001b[1;31mAttributeError\u001b[0m                            Traceback (most recent call last)",
      "\u001b[1;32m~\\anaconda3\\lib\\site-packages\\mysql\\connector\\conversion.py\u001b[0m in \u001b[0;36mto_mysql\u001b[1;34m(self, value)\u001b[0m\n\u001b[0;32m    178\u001b[0m     \u001b[1;32mdef\u001b[0m \u001b[0mto_mysql\u001b[0m\u001b[1;33m(\u001b[0m\u001b[0mself\u001b[0m\u001b[1;33m,\u001b[0m \u001b[0mvalue\u001b[0m\u001b[1;33m)\u001b[0m\u001b[1;33m:\u001b[0m\u001b[1;33m\u001b[0m\u001b[1;33m\u001b[0m\u001b[0m\n\u001b[1;32m--> 179\u001b[1;33m         \u001b[1;34m\"\"\"Convert Python data type to MySQL\"\"\"\u001b[0m\u001b[1;33m\u001b[0m\u001b[1;33m\u001b[0m\u001b[0m\n\u001b[0m\u001b[0;32m    180\u001b[0m         \u001b[0mtype_name\u001b[0m \u001b[1;33m=\u001b[0m \u001b[0mvalue\u001b[0m\u001b[1;33m.\u001b[0m\u001b[0m__class__\u001b[0m\u001b[1;33m.\u001b[0m\u001b[0m__name__\u001b[0m\u001b[1;33m.\u001b[0m\u001b[0mlower\u001b[0m\u001b[1;33m(\u001b[0m\u001b[1;33m)\u001b[0m\u001b[1;33m\u001b[0m\u001b[1;33m\u001b[0m\u001b[0m\n",
      "\u001b[1;31mAttributeError\u001b[0m: 'MySQLConverter' object has no attribute '_tag_to_mysql'",
      "\nDuring handling of the above exception, another exception occurred:\n",
      "\u001b[1;31mTypeError\u001b[0m                                 Traceback (most recent call last)",
      "\u001b[1;32m~\\anaconda3\\lib\\site-packages\\mysql\\connector\\cursor.py\u001b[0m in \u001b[0;36m_process_params\u001b[1;34m(self, params)\u001b[0m\n\u001b[0;32m    416\u001b[0m         \u001b[1;32mexcept\u001b[0m \u001b[0mException\u001b[0m \u001b[1;32mas\u001b[0m \u001b[0merr\u001b[0m\u001b[1;33m:\u001b[0m\u001b[1;33m\u001b[0m\u001b[1;33m\u001b[0m\u001b[0m\n\u001b[1;32m--> 417\u001b[1;33m             raise errors.ProgrammingError(\n\u001b[0m\u001b[0;32m    418\u001b[0m                 \"Failed processing pyformat-parameters; %s\" % err)\n",
      "\u001b[1;32m~\\anaconda3\\lib\\site-packages\\mysql\\connector\\cursor.py\u001b[0m in \u001b[0;36m<listcomp>\u001b[1;34m(.0)\u001b[0m\n\u001b[0;32m    416\u001b[0m         \u001b[1;32mexcept\u001b[0m \u001b[0mException\u001b[0m \u001b[1;32mas\u001b[0m \u001b[0merr\u001b[0m\u001b[1;33m:\u001b[0m\u001b[1;33m\u001b[0m\u001b[1;33m\u001b[0m\u001b[0m\n\u001b[1;32m--> 417\u001b[1;33m             raise errors.ProgrammingError(\n\u001b[0m\u001b[0;32m    418\u001b[0m                 \"Failed processing pyformat-parameters; %s\" % err)\n",
      "\u001b[1;32m~\\anaconda3\\lib\\site-packages\\mysql\\connector\\conversion.py\u001b[0m in \u001b[0;36mto_mysql\u001b[1;34m(self, value)\u001b[0m\n\u001b[0;32m    180\u001b[0m         \u001b[0mtype_name\u001b[0m \u001b[1;33m=\u001b[0m \u001b[0mvalue\u001b[0m\u001b[1;33m.\u001b[0m\u001b[0m__class__\u001b[0m\u001b[1;33m.\u001b[0m\u001b[0m__name__\u001b[0m\u001b[1;33m.\u001b[0m\u001b[0mlower\u001b[0m\u001b[1;33m(\u001b[0m\u001b[1;33m)\u001b[0m\u001b[1;33m\u001b[0m\u001b[1;33m\u001b[0m\u001b[0m\n\u001b[1;32m--> 181\u001b[1;33m         \u001b[1;32mtry\u001b[0m\u001b[1;33m:\u001b[0m\u001b[1;33m\u001b[0m\u001b[1;33m\u001b[0m\u001b[0m\n\u001b[0m\u001b[0;32m    182\u001b[0m             \u001b[1;32mreturn\u001b[0m \u001b[0mgetattr\u001b[0m\u001b[1;33m(\u001b[0m\u001b[0mself\u001b[0m\u001b[1;33m,\u001b[0m \u001b[1;34m\"_{0}_to_mysql\"\u001b[0m\u001b[1;33m.\u001b[0m\u001b[0mformat\u001b[0m\u001b[1;33m(\u001b[0m\u001b[0mtype_name\u001b[0m\u001b[1;33m)\u001b[0m\u001b[1;33m)\u001b[0m\u001b[1;33m(\u001b[0m\u001b[0mvalue\u001b[0m\u001b[1;33m)\u001b[0m\u001b[1;33m\u001b[0m\u001b[1;33m\u001b[0m\u001b[0m\n",
      "\u001b[1;31mTypeError\u001b[0m: Python 'tag' cannot be converted to a MySQL type",
      "\nDuring handling of the above exception, another exception occurred:\n",
      "\u001b[1;31mProgrammingError\u001b[0m                          Traceback (most recent call last)",
      "\u001b[1;32m~\\AppData\\Local\\Temp/ipykernel_12548/3915859849.py\u001b[0m in \u001b[0;36m<module>\u001b[1;34m\u001b[0m\n\u001b[0;32m     17\u001b[0m \u001b[1;33m\u001b[0m\u001b[0m\n\u001b[0;32m     18\u001b[0m \u001b[1;31m# Insert new employee\u001b[0m\u001b[1;33m\u001b[0m\u001b[1;33m\u001b[0m\u001b[0m\n\u001b[1;32m---> 19\u001b[1;33m \u001b[0mcursor\u001b[0m\u001b[1;33m.\u001b[0m\u001b[0mexecute\u001b[0m\u001b[1;33m(\u001b[0m\u001b[0madd_urls\u001b[0m\u001b[1;33m,\u001b[0m \u001b[0mdata_urls\u001b[0m\u001b[1;33m)\u001b[0m\u001b[1;33m\u001b[0m\u001b[1;33m\u001b[0m\u001b[0m\n\u001b[0m\u001b[0;32m     20\u001b[0m \u001b[0mid\u001b[0m \u001b[1;33m=\u001b[0m \u001b[0mcursor\u001b[0m\u001b[1;33m.\u001b[0m\u001b[0mlastrowid\u001b[0m\u001b[1;33m\u001b[0m\u001b[1;33m\u001b[0m\u001b[0m\n\u001b[0;32m     21\u001b[0m \u001b[1;33m\u001b[0m\u001b[0m\n",
      "\u001b[1;32m~\\anaconda3\\lib\\site-packages\\mysql\\connector\\cursor.py\u001b[0m in \u001b[0;36mexecute\u001b[1;34m(self, operation, params, multi)\u001b[0m\n\u001b[0;32m    537\u001b[0m \u001b[1;33m\u001b[0m\u001b[0m\n\u001b[0;32m    538\u001b[0m         \u001b[0mself\u001b[0m\u001b[1;33m.\u001b[0m\u001b[0m_connection\u001b[0m\u001b[1;33m.\u001b[0m\u001b[0mhandle_unread_result\u001b[0m\u001b[1;33m(\u001b[0m\u001b[1;33m)\u001b[0m\u001b[1;33m\u001b[0m\u001b[1;33m\u001b[0m\u001b[0m\n\u001b[1;32m--> 539\u001b[1;33m \u001b[1;33m\u001b[0m\u001b[0m\n\u001b[0m\u001b[0;32m    540\u001b[0m         \u001b[0mself\u001b[0m\u001b[1;33m.\u001b[0m\u001b[0m_reset_result\u001b[0m\u001b[1;33m(\u001b[0m\u001b[1;33m)\u001b[0m\u001b[1;33m\u001b[0m\u001b[1;33m\u001b[0m\u001b[0m\n\u001b[0;32m    541\u001b[0m         \u001b[0mstmt\u001b[0m \u001b[1;33m=\u001b[0m \u001b[1;34m''\u001b[0m\u001b[1;33m\u001b[0m\u001b[1;33m\u001b[0m\u001b[0m\n",
      "\u001b[1;32m~\\anaconda3\\lib\\site-packages\\mysql\\connector\\cursor.py\u001b[0m in \u001b[0;36m_process_params\u001b[1;34m(self, params)\u001b[0m\n\u001b[0;32m    419\u001b[0m         \u001b[1;32melse\u001b[0m\u001b[1;33m:\u001b[0m\u001b[1;33m\u001b[0m\u001b[1;33m\u001b[0m\u001b[0m\n\u001b[0;32m    420\u001b[0m             \u001b[1;32mreturn\u001b[0m \u001b[0mres\u001b[0m\u001b[1;33m\u001b[0m\u001b[1;33m\u001b[0m\u001b[0m\n\u001b[1;32m--> 421\u001b[1;33m \u001b[1;33m\u001b[0m\u001b[0m\n\u001b[0m\u001b[0;32m    422\u001b[0m     \u001b[1;32mdef\u001b[0m \u001b[0m_process_params\u001b[0m\u001b[1;33m(\u001b[0m\u001b[0mself\u001b[0m\u001b[1;33m,\u001b[0m \u001b[0mparams\u001b[0m\u001b[1;33m)\u001b[0m\u001b[1;33m:\u001b[0m\u001b[1;33m\u001b[0m\u001b[1;33m\u001b[0m\u001b[0m\n\u001b[0;32m    423\u001b[0m         \u001b[1;34m\"\"\"Process query parameters.\"\"\"\u001b[0m\u001b[1;33m\u001b[0m\u001b[1;33m\u001b[0m\u001b[0m\n",
      "\u001b[1;31mProgrammingError\u001b[0m: Failed processing format-parameters; Python 'tag' cannot be converted to a MySQL type"
     ]
    }
   ],
   "source": [
    "from __future__ import print_function\n",
    "\n",
    "cnx = mysql.connector.connect(host='localhost',\n",
    "                                         port=3306,\n",
    "                                         database='girrafe',\n",
    "                                         user='newuser',\n",
    "                                         password='Potato202@',\n",
    "                                         auth_plugin='mysql_native_password')\n",
    "cursor = cnx.cursor()\n",
    "\n",
    "\n",
    "add_urls = (\"INSERT INTO urls_table \"\n",
    "               \"(link, titles, descriptions) \"\n",
    "               \"VALUES (%s, %s, %s)\")\n",
    "\n",
    "data_urls = (link, titles, descriptions)\n",
    "\n",
    "# Insert new employee\n",
    "cursor.execute(add_urls, data_urls)\n",
    "id = cursor.lastrowid\n",
    "\n",
    "\n",
    "\n",
    "# Make sure data is committed to the database\n",
    "cnx.commit()\n",
    "\n",
    "cursor.close()\n",
    "cnx.close()"
   ]
  },
  {
   "cell_type": "code",
   "execution_count": 70,
   "metadata": {},
   "outputs": [
    {
     "name": "stderr",
     "output_type": "stream",
     "text": [
      "Error occurred during loading data. Trying to use cache server https://fake-useragent.herokuapp.com/browsers/0.1.11\n",
      "Traceback (most recent call last):\n",
      "  File \"C:\\Users\\User\\anaconda3\\lib\\site-packages\\fake_useragent\\utils.py\", line 154, in load\n",
      "    for item in get_browsers(verify_ssl=verify_ssl):\n",
      "  File \"C:\\Users\\User\\anaconda3\\lib\\site-packages\\fake_useragent\\utils.py\", line 99, in get_browsers\n",
      "    html = html.split('<table class=\"w3-table-all notranslate\">')[1]\n",
      "IndexError: list index out of range\n"
     ]
    }
   ],
   "source": [
    "from fake_useragent import UserAgent\n",
    "\n",
    "ua = UserAgent()\n",
    "\n",
    "def load_data(url_img):\n",
    "    response = requests.get(\n",
    "        url,\n",
    "        headers={'user-agent':f'{ua.random}'}\n",
    "    )\n",
    "\n",
    "    soup = BeautifulSoup(response.content, \"html.parser\")\n",
    "\n",
    "    for link in soup.find_all('a', class_=\"item-avatar\"):\n",
    "        url_img = link.get('href')\n",
    "        print(url_img)\n",
    "\n",
    "        img = requests.get(url_img, stream = True)\n",
    "\n",
    "        name = url_img.split('/')[-1]\n",
    "\n",
    "        file = open(f'PICTURES/{name}', 'bw')\n",
    "\n",
    "        for chunk in img.iter_content(4096):\n",
    "            file.write(chunk)\n",
    "\n",
    "for i in range(100):\n",
    "    i+=1\n",
    "    url_img = f'https://www.gardenia.net/plants/plant-family?page={i}'\n",
    "    try:\n",
    "        load_data(url_img)\n",
    "    except Exception as e:\n",
    "        print('error')"
   ]
  },
  {
   "cell_type": "code",
   "execution_count": null,
   "metadata": {},
   "outputs": [],
   "source": []
  }
 ],
 "metadata": {
  "colab": {
   "name": "ALL_URL .ipynb",
   "provenance": []
  },
  "kernelspec": {
   "display_name": "Python 3 (ipykernel)",
   "language": "python",
   "name": "python3"
  },
  "language_info": {
   "codemirror_mode": {
    "name": "ipython",
    "version": 3
   },
   "file_extension": ".py",
   "mimetype": "text/x-python",
   "name": "python",
   "nbconvert_exporter": "python",
   "pygments_lexer": "ipython3",
   "version": "3.9.12"
  }
 },
 "nbformat": 4,
 "nbformat_minor": 4
}
